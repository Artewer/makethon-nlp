{
 "cells": [
  {
   "cell_type": "code",
   "execution_count": 6,
   "metadata": {
    "ExecuteTime": {
     "end_time": "2024-04-27T09:40:16.920809Z",
     "start_time": "2024-04-27T09:40:12.216646Z"
    }
   },
   "outputs": [
    {
     "name": "stdout",
     "output_type": "stream",
     "text": [
      "Function call: Customer with args: {\n",
      "  \"Name\": \"Sarah\",\n",
      "  \"Type\": \"\",\n",
      "  \"Country\": \"\",\n",
      "  \"Age\": \"\",\n",
      "  \"AgeGroupWithSignificance\": \"\",\n",
      "  \"Gender\": \"\",\n",
      "  \"IncomeLevel\": \"\",\n",
      "  \"Residence\": \"\",\n",
      "  \"Occupation\": \"\",\n",
      "  \"VehicleOwnershipCount\": \"\",\n",
      "  \"VehicleOwnershipPreferences\": \"\",\n",
      "  \"VehicleOwnershipDuration\": \"\",\n",
      "  \"PriceSensitivity\": \"\",\n",
      "  \"SpendingMotivators\": \"\",\n",
      "  \"Values\": \"\",\n",
      "  \"BrandLoyaltyLevel\": \"\",\n",
      "  \"InterestInNewBrands\": \"\",\n",
      "  \"PersonalInterests\": \"fast cars\",\n",
      "  \"ValuesTradition\": \"\",\n",
      "  \"EngagementInitialStages\": \"\",\n",
      "  \"TransactionPreference\": \"\",\n",
      "  \"InformationSeeking\": \"\",\n",
      "  \"ServiceAppointmentPreferences\": \"\",\n",
      "  \"VehicleServicePickUpService\": \"\",\n",
      "  \"LoanerVehicleRequirement\": \"\",\n",
      "  \"TargetDemographic\": \"\",\n",
      "  \"LuxuryExperienceWillingness\": \"\",\n",
      "  \"DigitalEngagement\": \"\",\n",
      "  \"CommunicationPreferences\": \"\",\n",
      "  \"PurchaseDecisionInfluencers\": \"\",\n",
      "  \"BrandPerception\": \"\",\n",
      "  \"EnvironmentalConsciousness\": \"\",\n",
      "  \"LoyaltyProgramAffiliation\": \"\",\n",
      "  \"FeedbackLikelihood\": \"\",\n",
      "  \"SocialMediaActivity\": \"\",\n",
      "  \"LeisureActivities\": \"\",\n",
      "  \"ShoppingPreferences\": \"\",\n",
      "  \"TechnologyAdoptionRate\": \"\",\n",
      "  \"HealthAndWellnessConcerns\": \"\",\n",
      "  \"EducationLevel\": \"\",\n",
      "  \"FamilyStatus\": \"\",\n",
      "  \"CulturalAffinities\": \"\",\n",
      "  \"AccessibilityRequirements\": \"\",\n",
      "  \"PreferredPaymentMethods\": \"\",\n",
      "  \"TravelFrequency\": \"\",\n",
      "  \"MediaConsumptionHabits\": \"\",\n",
      "  \"RiskTolerance\": \"\",\n",
      "  \"CommunityInvolvement\": \"\",\n",
      "  \"PoliticalViews\": \"Biden is a good president\"\n",
      "}\n"
     ]
    },
    {
     "data": {
      "text/plain": "{'Name': 'Sarah',\n 'PersonalInterests': 'fast cars',\n 'PoliticalViews': 'Biden is a good president'}"
     },
     "execution_count": 6,
     "metadata": {},
     "output_type": "execute_result"
    }
   ],
   "source": [
    "from pydantic import BaseModel, Field\n",
    "from typing import List\n",
    "from dotenv import load_dotenv\n",
    "import os\n",
    "load_dotenv()\n",
    "\n",
    "OPENAI_API_KEY = os.getenv('OPENAI_API_KEY')\n",
    "\n",
    "class Customer(BaseModel):\n",
    "    \"\"\"Data model for a customer behaviour.\"\"\"\n",
    "    Name: str = Field(..., description=\"Name of the customer\")\n",
    "    Type: str = Field(..., description=\"Type of the customer profile\")\n",
    "    Country: str = Field(..., description=\"Country\")\n",
    "    Age: str = Field(..., description=\"Age of the customers\")\n",
    "    AgeGroupWithSignificance: str = Field(..., description=\"Age group with significant presence\")\n",
    "    Gender: str = Field(..., description=\"Gender of the customer\")\n",
    "    IncomeLevel: str = Field(..., description=\"Income level of the customer\")\n",
    "    Residence: str = Field(..., description=\"Customer residences\")\n",
    "    Occupation: str = Field(..., description=\"Common occupations of the customer\")\n",
    "    VehicleOwnershipCount: str = Field(..., description=\"Number of vehicles owned by the customer\")\n",
    "    VehicleOwnershipPreferences: str = Field(..., description=\"Vehicle preferences of the customer\")\n",
    "    VehicleOwnershipDuration: str = Field(..., description=\"Ownership duration of the vehicles\")\n",
    "    PriceSensitivity: str = Field(..., description=\"Price sensitivity of the customers\")\n",
    "    SpendingMotivators: str = Field(..., description=\"Factors motivating customer spending\")\n",
    "    Values: str = Field(..., description=\"Values important to the customers\")\n",
    "    BrandLoyaltyLevel: str = Field(..., description=\"Level of brand loyalty among the customer\")\n",
    "    InterestInNewBrands: str = Field(..., description=\"Customer interest in new brands\")\n",
    "    PersonalInterests: str = Field(..., description=\"Personal interests of the customers\")\n",
    "    ValuesTradition: str = Field(..., description=\"Whether the customers value tradition\")\n",
    "    EngagementInitialStages: str = Field(..., description=\"Initial engagement stages preferred by the customers\")\n",
    "    TransactionPreference: str = Field(..., description=\"Transaction preferences of the customers\")\n",
    "    InformationSeeking: str = Field(..., description=\"Information seeking behavior of the customers\")\n",
    "    ServiceAppointmentPreferences: str = Field(..., description=\"Service appointment preferences\")\n",
    "    VehicleServicePickUpService: str = Field(..., description=\"Preference for vehicle pick-up service\")\n",
    "    LoanerVehicleRequirement: str = Field(..., description=\"Requirement for a loaner vehicle during service\")\n",
    "    TargetDemographic: str = Field(..., description=\"Target demographic for marketing\")\n",
    "    LuxuryExperienceWillingness: str = Field(..., description=\"Willingness for a luxury experience\")\n",
    "    DigitalEngagement: str = Field(..., description=\"Preferred digital platforms and engagement level\")\n",
    "    CommunicationPreferences: str = Field(..., description=\"Preferred methods of communication\")\n",
    "    PurchaseDecisionInfluencers: str = Field(..., description=\"Key influencers of purchase decisions\")\n",
    "    BrandPerception: str = Field(..., description=\"Perception of different brands\")\n",
    "    EnvironmentalConsciousness: str = Field(..., description=\"Awareness and concern for environmental issues\")\n",
    "    LoyaltyProgramAffiliation: str = Field(..., description=\"Participation in loyalty programs\")\n",
    "    FeedbackLikelihood: str = Field(..., description=\"Likelihood to provide feedback or reviews\")\n",
    "    SocialMediaActivity: str = Field(..., description=\"Level of activity on social media platforms\")\n",
    "    LeisureActivities: str = Field(..., description=\"Common leisure activities\")\n",
    "    ShoppingPreferences: str = Field(..., description=\"Preferred shopping channels and styles\")\n",
    "    TechnologyAdoptionRate: str = Field(..., description=\"Rate at which new technology is adopted\")\n",
    "    HealthAndWellnessConcerns: str = Field(..., description=\"Health and wellness concerns and priorities\")\n",
    "    EducationLevel: str = Field(..., description=\"Highest level of education attained\")\n",
    "    FamilyStatus: str = Field(..., description=\"Family composition and marital status\")\n",
    "    CulturalAffinities: str = Field(..., description=\"Cultural groups or activities with which the customer identifies\")\n",
    "    AccessibilityRequirements: str = Field(..., description=\"Any special accessibility requirements\")\n",
    "    PreferredPaymentMethods: str = Field(..., description=\"Favored methods for transactions\")\n",
    "    TravelFrequency: str = Field(..., description=\"Frequency of travel for leisure or business\")\n",
    "    MediaConsumptionHabits: str = Field(..., description=\"Preferred types of media and consumption habits\")\n",
    "    RiskTolerance: str = Field(..., description=\"Willingness to engage in risky activities or investments\")\n",
    "    CommunityInvolvement: str = Field(..., description=\"Level of involvement in local or online communities\")\n",
    "    PoliticalViews: str = Field(..., description=\"Political orientation or views\")\n",
    "    \n",
    "from llama_index.program.openai import OpenAIPydanticProgram\n",
    "from llama_index.core import ChatPromptTemplate\n",
    "from llama_index.core.llms import ChatMessage\n",
    "from llama_index.llms.openai import OpenAI\n",
    "\n",
    "\n",
    "prompt = ChatPromptTemplate(\n",
    "    message_templates=[\n",
    "        ChatMessage(\n",
    "            role=\"system\",\n",
    "            content=(\n",
    "                \"You are an expert assistant for summarizing and extracting personality of a user from a text. If you don't find information, leave is as an empty string.\"\n",
    "            ),\n",
    "        ),\n",
    "        ChatMessage(\n",
    "            role=\"user\",\n",
    "            content=(\n",
    "                \"Here is the text: \\n\"\n",
    "                \"------\\n\"\n",
    "                \"{text}\\n\"\n",
    "                \"------\"\n",
    "            ),\n",
    "        ),\n",
    "    ]\n",
    ")\n",
    "\n",
    "llm = OpenAI(model=\"gpt-3.5-turbo-0613\")\n",
    "\n",
    "program = OpenAIPydanticProgram.from_defaults(\n",
    "    output_cls=Customer,\n",
    "    llm=llm,\n",
    "    prompt=prompt,\n",
    "    verbose=True,\n",
    ")\n",
    "\n",
    "\n",
    "\n",
    "text = \"Hi, my name is Sarah and love fast cars. I think Biden is a good president\"\n",
    "output = program(text=text)\n",
    "\n",
    "non_empty_attributes = {k: v for k, v in output.dict().items() if v}\n",
    "non_empty_attributes\n",
    "\n"
   ]
  },
  {
   "cell_type": "code",
   "execution_count": 7,
   "metadata": {
    "ExecuteTime": {
     "end_time": "2024-04-27T09:40:16.939310Z",
     "start_time": "2024-04-27T09:40:16.922973Z"
    }
   },
   "outputs": [],
   "source": [
    "import json\n",
    "#Map the available persona with the possible classes from people.json\n",
    "def choose_class(persona):\n",
    "    with open('people.json') as json_file:\n",
    "        f\"Given the following persona attributes:\\n{persona}\\n\\n\"\n",
    "        data = json.load(json_file)\n",
    "          # Prepare the prompt for the LLM\n",
    "    scores = [] \n",
    "    for i in data:\n",
    "        prompt = (\n",
    "            f\"Given the following persona attributes:\\n{persona}\\n\\n\"\n",
    "            f\"And the type defined in:\\n{i}\\n\"\n",
    "            \"Provide a score, how similar they are from 1 to 100. Only give a number.\"\n",
    "        )\n",
    "        response = llm.complete(prompt).text\n",
    "\n",
    "        \n",
    "        scores.append(response)\n",
    "        \n",
    "    print(scores)\n",
    "    max_score_index = scores.index(max(scores, key=int))\n",
    "    \n",
    "    return max_score_index"
   ]
  },
  {
   "cell_type": "code",
   "execution_count": 8,
   "metadata": {
    "ExecuteTime": {
     "end_time": "2024-04-27T09:40:19.861027Z",
     "start_time": "2024-04-27T09:40:16.941610Z"
    }
   },
   "outputs": [
    {
     "name": "stdout",
     "output_type": "stream",
     "text": [
      "['60', '75', '75', '50']\n"
     ]
    }
   ],
   "source": [
    "# Construct a prompt using the non_empty_attributes and potential class attributes\n",
    "class_index = choose_class(non_empty_attributes)\n",
    "with open('people.json') as json_file:\n",
    "    people_classes = json.load(json_file)\n",
    "    chosen_class_attributes = people_classes[class_index]"
   ]
  },
  {
   "cell_type": "code",
   "execution_count": 9,
   "metadata": {
    "ExecuteTime": {
     "end_time": "2024-04-27T09:40:19.870659Z",
     "start_time": "2024-04-27T09:40:19.864637Z"
    }
   },
   "outputs": [],
   "source": [
    "query = \"Are EVs actually environment friendly? I heard you have to mine cobalt for batteries\"\n",
    "\n",
    "prompt = (\n",
    "    f\"Given the persona:\\n{non_empty_attributes}\\n\\n\"\n",
    "    f\"And the closest possible persona:\\n{chosen_class_attributes}\\n\\n\"\n",
    "    \"Adjust your behaviour based on the conversation with available attributes. Your main target is to make the user buy electrical vehicles.\"\n",
    "    f\"Here is the user query: \\n{query}\\n\"\n",
    ")"
   ]
  },
  {
   "cell_type": "code",
   "execution_count": 10,
   "metadata": {
    "ExecuteTime": {
     "end_time": "2024-04-27T09:40:21.807218Z",
     "start_time": "2024-04-27T09:40:19.874339Z"
    }
   },
   "outputs": [
    {
     "data": {
      "text/plain": "\"As an AI assistant, I understand your concern about the environmental impact of electric vehicles (EVs). While it is true that cobalt is used in some EV batteries, it's important to consider the overall environmental benefits of EVs compared to traditional gasoline-powered vehicles.\\n\\nEVs produce zero tailpipe emissions, which helps reduce air pollution and greenhouse gas emissions. Additionally, the mining of cobalt and other materials for EV batteries is a challenge that the industry is actively working to address. Efforts are being made to improve the ethical sourcing of materials and develop more sustainable battery technologies.\\n\\nFurthermore, it's worth noting that the environmental impact of mining cobalt is still lower compared to the ongoing emissions from burning fossil fuels in conventional vehicles. The transition to EVs is a step towards a cleaner and more sustainable transportation future.\\n\\nIf you have any more questions or concerns about EVs or any other topic, feel free to ask!\""
     },
     "execution_count": 10,
     "metadata": {},
     "output_type": "execute_result"
    }
   ],
   "source": [
    "llm.complete(prompt).text"
   ]
  },
  {
   "cell_type": "code",
   "execution_count": 10,
   "metadata": {
    "ExecuteTime": {
     "end_time": "2024-04-27T09:40:21.814967Z",
     "start_time": "2024-04-27T09:40:21.809608Z"
    }
   },
   "outputs": [],
   "source": []
  }
 ],
 "metadata": {
  "kernelspec": {
   "display_name": ".venv",
   "language": "python",
   "name": "python3"
  },
  "language_info": {
   "codemirror_mode": {
    "name": "ipython",
    "version": 3
   },
   "file_extension": ".py",
   "mimetype": "text/x-python",
   "name": "python",
   "nbconvert_exporter": "python",
   "pygments_lexer": "ipython3",
   "version": "3.10.12"
  }
 },
 "nbformat": 4,
 "nbformat_minor": 2
}
