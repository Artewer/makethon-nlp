{
 "cells": [
  {
   "cell_type": "code",
   "execution_count": 4,
   "id": "initial_id",
   "metadata": {
    "collapsed": true,
    "ExecuteTime": {
     "end_time": "2024-04-27T10:49:26.013508Z",
     "start_time": "2024-04-27T10:49:15.213514Z"
    }
   },
   "outputs": [
    {
     "name": "stdout",
     "output_type": "stream",
     "text": [
      "Collecting ipynb\n",
      "  Downloading ipynb-0.5.1-py3-none-any.whl.metadata (303 bytes)\n",
      "Downloading ipynb-0.5.1-py3-none-any.whl (6.9 kB)\n",
      "Installing collected packages: ipynb\n",
      "Successfully installed ipynb-0.5.1\n",
      "Requirement already satisfied: llama_index in c:\\users\\79779\\anaconda3\\lib\\site-packages (0.10.32)\n",
      "Requirement already satisfied: llama-index-agent-openai<0.3.0,>=0.1.4 in c:\\users\\79779\\anaconda3\\lib\\site-packages (from llama_index) (0.2.3)\n",
      "Requirement already satisfied: llama-index-cli<0.2.0,>=0.1.2 in c:\\users\\79779\\anaconda3\\lib\\site-packages (from llama_index) (0.1.12)\n",
      "Requirement already satisfied: llama-index-core<0.11.0,>=0.10.32 in c:\\users\\79779\\anaconda3\\lib\\site-packages (from llama_index) (0.10.32)\n",
      "Requirement already satisfied: llama-index-embeddings-openai<0.2.0,>=0.1.5 in c:\\users\\79779\\anaconda3\\lib\\site-packages (from llama_index) (0.1.9)\n",
      "Requirement already satisfied: llama-index-indices-managed-llama-cloud<0.2.0,>=0.1.2 in c:\\users\\79779\\anaconda3\\lib\\site-packages (from llama_index) (0.1.6)\n",
      "Requirement already satisfied: llama-index-legacy<0.10.0,>=0.9.48 in c:\\users\\79779\\anaconda3\\lib\\site-packages (from llama_index) (0.9.48)\n",
      "Requirement already satisfied: llama-index-llms-openai<0.2.0,>=0.1.13 in c:\\users\\79779\\anaconda3\\lib\\site-packages (from llama_index) (0.1.16)\n",
      "Requirement already satisfied: llama-index-multi-modal-llms-openai<0.2.0,>=0.1.3 in c:\\users\\79779\\anaconda3\\lib\\site-packages (from llama_index) (0.1.5)\n",
      "Requirement already satisfied: llama-index-program-openai<0.2.0,>=0.1.3 in c:\\users\\79779\\anaconda3\\lib\\site-packages (from llama_index) (0.1.6)\n",
      "Requirement already satisfied: llama-index-question-gen-openai<0.2.0,>=0.1.2 in c:\\users\\79779\\anaconda3\\lib\\site-packages (from llama_index) (0.1.3)\n",
      "Requirement already satisfied: llama-index-readers-file<0.2.0,>=0.1.4 in c:\\users\\79779\\anaconda3\\lib\\site-packages (from llama_index) (0.1.19)\n",
      "Requirement already satisfied: llama-index-readers-llama-parse<0.2.0,>=0.1.2 in c:\\users\\79779\\anaconda3\\lib\\site-packages (from llama_index) (0.1.4)\n",
      "Requirement already satisfied: openai>=1.14.0 in c:\\users\\79779\\anaconda3\\lib\\site-packages (from llama-index-agent-openai<0.3.0,>=0.1.4->llama_index) (1.23.6)\n",
      "Requirement already satisfied: PyYAML>=6.0.1 in c:\\users\\79779\\anaconda3\\lib\\site-packages (from llama-index-core<0.11.0,>=0.10.32->llama_index) (6.0.1)\n",
      "Requirement already satisfied: SQLAlchemy>=1.4.49 in c:\\users\\79779\\anaconda3\\lib\\site-packages (from SQLAlchemy[asyncio]>=1.4.49->llama-index-core<0.11.0,>=0.10.32->llama_index) (2.0.21)\n",
      "Requirement already satisfied: aiohttp<4.0.0,>=3.8.6 in c:\\users\\79779\\anaconda3\\lib\\site-packages (from llama-index-core<0.11.0,>=0.10.32->llama_index) (3.9.3)\n",
      "Requirement already satisfied: dataclasses-json in c:\\users\\79779\\anaconda3\\lib\\site-packages (from llama-index-core<0.11.0,>=0.10.32->llama_index) (0.6.4)\n",
      "Requirement already satisfied: deprecated>=1.2.9.3 in c:\\users\\79779\\anaconda3\\lib\\site-packages (from llama-index-core<0.11.0,>=0.10.32->llama_index) (1.2.14)\n",
      "Requirement already satisfied: dirtyjson<2.0.0,>=1.0.8 in c:\\users\\79779\\anaconda3\\lib\\site-packages (from llama-index-core<0.11.0,>=0.10.32->llama_index) (1.0.8)\n",
      "Requirement already satisfied: fsspec>=2023.5.0 in c:\\users\\79779\\anaconda3\\lib\\site-packages (from llama-index-core<0.11.0,>=0.10.32->llama_index) (2023.10.0)\n",
      "Requirement already satisfied: httpx in c:\\users\\79779\\anaconda3\\lib\\site-packages (from llama-index-core<0.11.0,>=0.10.32->llama_index) (0.27.0)\n",
      "Requirement already satisfied: llamaindex-py-client<0.2.0,>=0.1.18 in c:\\users\\79779\\anaconda3\\lib\\site-packages (from llama-index-core<0.11.0,>=0.10.32->llama_index) (0.1.19)\n",
      "Requirement already satisfied: nest-asyncio<2.0.0,>=1.5.8 in c:\\users\\79779\\anaconda3\\lib\\site-packages (from llama-index-core<0.11.0,>=0.10.32->llama_index) (1.6.0)\n",
      "Requirement already satisfied: networkx>=3.0 in c:\\users\\79779\\anaconda3\\lib\\site-packages (from llama-index-core<0.11.0,>=0.10.32->llama_index) (3.1)\n",
      "Requirement already satisfied: nltk<4.0.0,>=3.8.1 in c:\\users\\79779\\anaconda3\\lib\\site-packages (from llama-index-core<0.11.0,>=0.10.32->llama_index) (3.8.1)\n",
      "Requirement already satisfied: numpy in c:\\users\\79779\\anaconda3\\lib\\site-packages (from llama-index-core<0.11.0,>=0.10.32->llama_index) (1.23.5)\n",
      "Requirement already satisfied: pandas in c:\\users\\79779\\anaconda3\\lib\\site-packages (from llama-index-core<0.11.0,>=0.10.32->llama_index) (1.5.2)\n",
      "Requirement already satisfied: pillow>=9.0.0 in c:\\users\\79779\\anaconda3\\lib\\site-packages (from llama-index-core<0.11.0,>=0.10.32->llama_index) (9.3.0)\n",
      "Requirement already satisfied: requests>=2.31.0 in c:\\users\\79779\\anaconda3\\lib\\site-packages (from llama-index-core<0.11.0,>=0.10.32->llama_index) (2.31.0)\n",
      "Requirement already satisfied: tenacity<9.0.0,>=8.2.0 in c:\\users\\79779\\anaconda3\\lib\\site-packages (from llama-index-core<0.11.0,>=0.10.32->llama_index) (8.2.2)\n",
      "Requirement already satisfied: tiktoken>=0.3.3 in c:\\users\\79779\\anaconda3\\lib\\site-packages (from llama-index-core<0.11.0,>=0.10.32->llama_index) (0.6.0)\n",
      "Requirement already satisfied: tqdm<5.0.0,>=4.66.1 in c:\\users\\79779\\anaconda3\\lib\\site-packages (from llama-index-core<0.11.0,>=0.10.32->llama_index) (4.66.2)\n",
      "Requirement already satisfied: typing-extensions>=4.5.0 in c:\\users\\79779\\anaconda3\\lib\\site-packages (from llama-index-core<0.11.0,>=0.10.32->llama_index) (4.11.0)\n",
      "Requirement already satisfied: typing-inspect>=0.8.0 in c:\\users\\79779\\anaconda3\\lib\\site-packages (from llama-index-core<0.11.0,>=0.10.32->llama_index) (0.9.0)\n",
      "Requirement already satisfied: wrapt in c:\\users\\79779\\anaconda3\\lib\\site-packages (from llama-index-core<0.11.0,>=0.10.32->llama_index) (1.14.1)\n",
      "Requirement already satisfied: beautifulsoup4<5.0.0,>=4.12.3 in c:\\users\\79779\\anaconda3\\lib\\site-packages (from llama-index-readers-file<0.2.0,>=0.1.4->llama_index) (4.12.3)\n",
      "Requirement already satisfied: pypdf<5.0.0,>=4.0.1 in c:\\users\\79779\\anaconda3\\lib\\site-packages (from llama-index-readers-file<0.2.0,>=0.1.4->llama_index) (4.2.0)\n",
      "Requirement already satisfied: striprtf<0.0.27,>=0.0.26 in c:\\users\\79779\\anaconda3\\lib\\site-packages (from llama-index-readers-file<0.2.0,>=0.1.4->llama_index) (0.0.26)\n",
      "Requirement already satisfied: llama-parse<0.5.0,>=0.4.0 in c:\\users\\79779\\anaconda3\\lib\\site-packages (from llama-index-readers-llama-parse<0.2.0,>=0.1.2->llama_index) (0.4.2)\n",
      "Requirement already satisfied: aiosignal>=1.1.2 in c:\\users\\79779\\anaconda3\\lib\\site-packages (from aiohttp<4.0.0,>=3.8.6->llama-index-core<0.11.0,>=0.10.32->llama_index) (1.2.0)\n",
      "Requirement already satisfied: attrs>=17.3.0 in c:\\users\\79779\\anaconda3\\lib\\site-packages (from aiohttp<4.0.0,>=3.8.6->llama-index-core<0.11.0,>=0.10.32->llama_index) (22.1.0)\n",
      "Requirement already satisfied: frozenlist>=1.1.1 in c:\\users\\79779\\anaconda3\\lib\\site-packages (from aiohttp<4.0.0,>=3.8.6->llama-index-core<0.11.0,>=0.10.32->llama_index) (1.4.0)\n",
      "Requirement already satisfied: multidict<7.0,>=4.5 in c:\\users\\79779\\anaconda3\\lib\\site-packages (from aiohttp<4.0.0,>=3.8.6->llama-index-core<0.11.0,>=0.10.32->llama_index) (6.0.4)\n",
      "Requirement already satisfied: yarl<2.0,>=1.0 in c:\\users\\79779\\anaconda3\\lib\\site-packages (from aiohttp<4.0.0,>=3.8.6->llama-index-core<0.11.0,>=0.10.32->llama_index) (1.9.3)\n",
      "Requirement already satisfied: soupsieve>1.2 in c:\\users\\79779\\anaconda3\\lib\\site-packages (from beautifulsoup4<5.0.0,>=4.12.3->llama-index-readers-file<0.2.0,>=0.1.4->llama_index) (2.3.2.post1)\n",
      "Requirement already satisfied: pydantic>=1.10 in c:\\users\\79779\\anaconda3\\lib\\site-packages (from llamaindex-py-client<0.2.0,>=0.1.18->llama-index-core<0.11.0,>=0.10.32->llama_index) (1.10.12)\n",
      "Requirement already satisfied: anyio in c:\\users\\79779\\anaconda3\\lib\\site-packages (from httpx->llama-index-core<0.11.0,>=0.10.32->llama_index) (3.5.0)\n",
      "Requirement already satisfied: certifi in c:\\users\\79779\\anaconda3\\lib\\site-packages (from httpx->llama-index-core<0.11.0,>=0.10.32->llama_index) (2022.9.24)\n",
      "Requirement already satisfied: httpcore==1.* in c:\\users\\79779\\anaconda3\\lib\\site-packages (from httpx->llama-index-core<0.11.0,>=0.10.32->llama_index) (1.0.5)\n",
      "Requirement already satisfied: idna in c:\\users\\79779\\anaconda3\\lib\\site-packages (from httpx->llama-index-core<0.11.0,>=0.10.32->llama_index) (3.4)\n",
      "Requirement already satisfied: sniffio in c:\\users\\79779\\anaconda3\\lib\\site-packages (from httpx->llama-index-core<0.11.0,>=0.10.32->llama_index) (1.3.0)\n",
      "Requirement already satisfied: h11<0.15,>=0.13 in c:\\users\\79779\\anaconda3\\lib\\site-packages (from httpcore==1.*->httpx->llama-index-core<0.11.0,>=0.10.32->llama_index) (0.14.0)\n",
      "Requirement already satisfied: click in c:\\users\\79779\\anaconda3\\lib\\site-packages (from nltk<4.0.0,>=3.8.1->llama-index-core<0.11.0,>=0.10.32->llama_index) (8.1.7)\n",
      "Requirement already satisfied: joblib in c:\\users\\79779\\anaconda3\\lib\\site-packages (from nltk<4.0.0,>=3.8.1->llama-index-core<0.11.0,>=0.10.32->llama_index) (1.2.0)\n",
      "Requirement already satisfied: regex>=2021.8.3 in c:\\users\\79779\\anaconda3\\lib\\site-packages (from nltk<4.0.0,>=3.8.1->llama-index-core<0.11.0,>=0.10.32->llama_index) (2023.10.3)\n",
      "Requirement already satisfied: distro<2,>=1.7.0 in c:\\users\\79779\\anaconda3\\lib\\site-packages (from openai>=1.14.0->llama-index-agent-openai<0.3.0,>=0.1.4->llama_index) (1.8.0)\n",
      "Requirement already satisfied: charset-normalizer<4,>=2 in c:\\users\\79779\\anaconda3\\lib\\site-packages (from requests>=2.31.0->llama-index-core<0.11.0,>=0.10.32->llama_index) (2.0.4)\n",
      "Requirement already satisfied: urllib3<3,>=1.21.1 in c:\\users\\79779\\anaconda3\\lib\\site-packages (from requests>=2.31.0->llama-index-core<0.11.0,>=0.10.32->llama_index) (1.26.18)\n",
      "Requirement already satisfied: greenlet!=0.4.17 in c:\\users\\79779\\anaconda3\\lib\\site-packages (from SQLAlchemy>=1.4.49->SQLAlchemy[asyncio]>=1.4.49->llama-index-core<0.11.0,>=0.10.32->llama_index) (3.0.1)\n",
      "Requirement already satisfied: colorama in c:\\users\\79779\\anaconda3\\lib\\site-packages (from tqdm<5.0.0,>=4.66.1->llama-index-core<0.11.0,>=0.10.32->llama_index) (0.4.6)\n",
      "Requirement already satisfied: mypy-extensions>=0.3.0 in c:\\users\\79779\\anaconda3\\lib\\site-packages (from typing-inspect>=0.8.0->llama-index-core<0.11.0,>=0.10.32->llama_index) (1.0.0)\n",
      "Requirement already satisfied: marshmallow<4.0.0,>=3.18.0 in c:\\users\\79779\\anaconda3\\lib\\site-packages (from dataclasses-json->llama-index-core<0.11.0,>=0.10.32->llama_index) (3.21.1)\n",
      "Requirement already satisfied: python-dateutil>=2.8.1 in c:\\users\\79779\\anaconda3\\lib\\site-packages (from pandas->llama-index-core<0.11.0,>=0.10.32->llama_index) (2.8.2)\n",
      "Requirement already satisfied: pytz>=2020.1 in c:\\users\\79779\\anaconda3\\lib\\site-packages (from pandas->llama-index-core<0.11.0,>=0.10.32->llama_index) (2023.3.post1)\n",
      "Requirement already satisfied: packaging>=17.0 in c:\\users\\79779\\anaconda3\\lib\\site-packages (from marshmallow<4.0.0,>=3.18.0->dataclasses-json->llama-index-core<0.11.0,>=0.10.32->llama_index) (23.1)\n",
      "Requirement already satisfied: six>=1.5 in c:\\users\\79779\\anaconda3\\lib\\site-packages (from python-dateutil>=2.8.1->pandas->llama-index-core<0.11.0,>=0.10.32->llama_index) (1.16.0)\n",
      "Note: you may need to restart the kernel to use updated packages.\n"
     ]
    }
   ],
   "source": [
    "%pip install llama_index"
   ]
  },
  {
   "cell_type": "code",
   "outputs": [],
   "source": [],
   "metadata": {
    "collapsed": false,
    "ExecuteTime": {
     "end_time": "2024-04-27T10:45:39.269611Z",
     "start_time": "2024-04-27T10:45:39.268578Z"
    }
   },
   "id": "77b7a60f0c5c0b3d"
  }
 ],
 "metadata": {
  "kernelspec": {
   "display_name": "Python 3",
   "language": "python",
   "name": "python3"
  },
  "language_info": {
   "codemirror_mode": {
    "name": "ipython",
    "version": 2
   },
   "file_extension": ".py",
   "mimetype": "text/x-python",
   "name": "python",
   "nbconvert_exporter": "python",
   "pygments_lexer": "ipython2",
   "version": "2.7.6"
  }
 },
 "nbformat": 4,
 "nbformat_minor": 5
}
