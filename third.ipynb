{
 "cells": [
  {
   "cell_type": "code",
   "execution_count": 6,
   "metadata": {
    "ExecuteTime": {
     "end_time": "2024-04-27T09:49:15.552527Z",
     "start_time": "2024-04-27T09:49:15.540400Z"
    }
   },
   "outputs": [],
   "source": [
    "from llama_index.llms.openai import OpenAI\n",
    "from llama_index.core.llms import ChatMessage\n",
    "from llama_index.core.chat_engine import SimpleChatEngine\n",
    "from dotenv import load_dotenv\n",
    "import os\n",
    "load_dotenv()\n",
    "\n",
    "OPENAI_API_KEY = os.getenv('OPENAI_API_KEY')\n",
    "\n",
    "\n",
    "llm = OpenAI(model='gpt-3.5-turbo-0613')"
   ]
  },
  {
   "cell_type": "code",
   "execution_count": 7,
   "metadata": {
    "ExecuteTime": {
     "end_time": "2024-04-27T09:49:18.212253Z",
     "start_time": "2024-04-27T09:49:15.556965Z"
    }
   },
   "outputs": [],
   "source": [
    "query = \"What is the capacity of my Mercedez EV vehicle\"\n",
    "answer = \"The capacity of the Mercedes EV vehicle is approximately 70 kWh.\"\n",
    "prompt = f\"Given the query '{query}', the answer is '{answer}'. What follow-up questions might a user have? Provide only one question and be different from the previous one.\"\n",
    "#message = ChatMessage(role=\"system\", content=prompt)\n",
    "chat_engine = SimpleChatEngine.from_defaults(llm=llm)\n",
    "\n",
    "questions = []\n",
    "for i in range(4):\n",
    "    response = chat_engine.chat(prompt)\n",
    "    questions.append(response.response)\n",
    "    #questions.append(llm.chat([message]))"
   ]
  },
  {
   "cell_type": "code",
   "execution_count": 8,
   "metadata": {
    "ExecuteTime": {
     "end_time": "2024-04-27T09:49:18.224793Z",
     "start_time": "2024-04-27T09:49:18.215729Z"
    }
   },
   "outputs": [
    {
     "data": {
      "text/plain": "['What is the estimated range of the Mercedes EV vehicle on a full charge?',\n 'How long does it take to fully charge the Mercedes EV vehicle?',\n 'What is the average charging time for the Mercedes EV vehicle from 0% to 100%?',\n 'What is the estimated cost of fully charging the Mercedes EV vehicle?']"
     },
     "execution_count": 8,
     "metadata": {},
     "output_type": "execute_result"
    }
   ],
   "source": [
    "questions"
   ]
  },
  {
   "cell_type": "code",
   "execution_count": 8,
   "metadata": {
    "ExecuteTime": {
     "end_time": "2024-04-27T09:49:18.229488Z",
     "start_time": "2024-04-27T09:49:18.225793Z"
    }
   },
   "outputs": [],
   "source": []
  }
 ],
 "metadata": {
  "kernelspec": {
   "display_name": ".venv",
   "language": "python",
   "name": "python3"
  },
  "language_info": {
   "codemirror_mode": {
    "name": "ipython",
    "version": 3
   },
   "file_extension": ".py",
   "mimetype": "text/x-python",
   "name": "python",
   "nbconvert_exporter": "python",
   "pygments_lexer": "ipython3",
   "version": "3.10.12"
  }
 },
 "nbformat": 4,
 "nbformat_minor": 2
}
