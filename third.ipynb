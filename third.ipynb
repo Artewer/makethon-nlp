{
 "cells": [
  {
   "cell_type": "code",
   "execution_count": 21,
   "metadata": {},
   "outputs": [],
   "source": [
    "from llama_index.llms.openai import OpenAI\n",
    "from llama_index.core.llms import ChatMessage\n",
    "from llama_index.core.chat_engine import SimpleChatEngine\n",
    "\n",
    "\n",
    "llm = OpenAI(model='gpt-3.5-turbo-0613')"
   ]
  },
  {
   "cell_type": "code",
   "execution_count": 24,
   "metadata": {},
   "outputs": [],
   "source": [
    "query = \"What is the capacity of my Mercedez EV vehicle\"\n",
    "answer = \"The capacity of the Mercedes EV vehicle is approximately 70 kWh.\"\n",
    "prompt = f\"Given the query '{query}', the answer is '{answer}'. What follow-up questions might a user have? Provide only one question and be different from the previous one.\"\n",
    "#message = ChatMessage(role=\"system\", content=prompt)\n",
    "chat_engine = SimpleChatEngine.from_defaults(llm=llm)\n",
    "\n",
    "questions = []\n",
    "for i in range(4):\n",
    "    response = chat_engine.chat(prompt)\n",
    "    questions.append(response.response)\n",
    "    #questions.append(llm.chat([message]))"
   ]
  },
  {
   "cell_type": "code",
   "execution_count": 25,
   "metadata": {},
   "outputs": [
    {
     "data": {
      "text/plain": [
       "['What is the estimated range of the Mercedes EV vehicle on a full charge?',\n",
       " 'How long does it take to fully charge the Mercedes EV vehicle?',\n",
       " 'What is the average charging time for the Mercedes EV vehicle from 0% to 100%?',\n",
       " 'What is the estimated cost of fully charging the Mercedes EV vehicle?']"
      ]
     },
     "execution_count": 25,
     "metadata": {},
     "output_type": "execute_result"
    }
   ],
   "source": [
    "questions"
   ]
  },
  {
   "cell_type": "code",
   "execution_count": null,
   "metadata": {},
   "outputs": [],
   "source": []
  }
 ],
 "metadata": {
  "kernelspec": {
   "display_name": ".venv",
   "language": "python",
   "name": "python3"
  },
  "language_info": {
   "codemirror_mode": {
    "name": "ipython",
    "version": 3
   },
   "file_extension": ".py",
   "mimetype": "text/x-python",
   "name": "python",
   "nbconvert_exporter": "python",
   "pygments_lexer": "ipython3",
   "version": "3.10.12"
  }
 },
 "nbformat": 4,
 "nbformat_minor": 2
}
