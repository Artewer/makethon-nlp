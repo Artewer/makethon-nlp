{
 "cells": [
  {
   "cell_type": "code",
   "execution_count": 1,
   "metadata": {},
   "outputs": [],
   "source": [
    "from llama_index.core import SimpleDirectoryReader\n",
    "from llama_index.core import VectorStoreIndex\n",
    "from llama_index.core import Document\n",
    "from llama_index.embeddings.openai import OpenAIEmbedding\n",
    "from llama_index.core.node_parser import SentenceSplitter\n",
    "from llama_index.core.extractors import TitleExtractor\n",
    "from llama_index.core.ingestion import IngestionPipeline\n",
    "from llama_index.core.storage.docstore import SimpleDocumentStore\n",
    "from llama_index.core.storage.index_store import SimpleIndexStore\n",
    "from llama_index.core.vector_stores import SimpleVectorStore\n",
    "from llama_index.core import StorageContext\n",
    "from llama_index.core.query_pipeline import QueryPipeline\n",
    "#from llama_index.embeddings.huggingface import HuggingFaceEmbedding\n",
    "from llama_index.agent.openai import OpenAIAgent\n",
    "#from llama_index.llms.openai_like import OpenAILike\n",
    "from llama_index.core.tools import QueryEngineTool, ToolMetadata\n",
    "import os\n",
    "from llama_index.llms.openai import OpenAI\n",
    "from llama_index.core.agent import ReActAgent\n",
    "from llama_index.agent.openai import OpenAIAgent\n",
    "from llama_index.core import (\n",
    "    load_index_from_storage,\n",
    "    StorageContext,\n",
    "    VectorStoreIndex,\n",
    ")\n",
    "from llama_index.core import SummaryIndex\n",
    "from llama_index.core.tools import QueryEngineTool, ToolMetadata\n",
    "from llama_index.core.node_parser import SentenceSplitter\n",
    "import os\n",
    "from tqdm.notebook import tqdm\n",
    "import pickle\n",
    "from pathlib import Path\n",
    "\n",
    "# Load environment variables from .env file\n",
    "from dotenv import load_dotenv\n",
    "load_dotenv()\n",
    "\n",
    "# Retrieve the OpenAI API key from the environment\n",
    "OPENAI_API_KEY = os.getenv('OPENAI_API_KEY')\n"
   ]
  },
  {
   "cell_type": "code",
   "execution_count": 2,
   "metadata": {},
   "outputs": [],
   "source": [
    "def read_folder(path):\n",
    "    # Walk through all files in the given path and return a list of documents\n",
    "    documents = []\n",
    "    all_files = []\n",
    "    for root, dirs, files in os.walk(path):\n",
    "        all_files.append(files)\n",
    "        for file in files:\n",
    "            document_path = os.path.join(root, file)\n",
    "            documents.append(SimpleDirectoryReader(input_files=[document_path]).load_data())\n",
    "            \n",
    "\n",
    "    indexes = []\n",
    "    for i in documents:\n",
    "        indexes.append(VectorStoreIndex.from_documents(documents=i))\n",
    "        \n",
    "    return indexes, files"
   ]
  },
  {
   "cell_type": "code",
   "execution_count": 3,
   "metadata": {},
   "outputs": [
    {
     "name": "stdout",
     "output_type": "stream",
     "text": [
      "Failed to load file data/customer data - preffered car price.csv with error: 'utf-8' codec can't decode byte 0xc5 in position 8694: invalid continuation byte. Skipping...\n"
     ]
    }
   ],
   "source": [
    "indexes, files = read_folder('data/')\n",
    "\n",
    "llm = OpenAI(model=\"gpt-3.5-turbo-0613\")\n",
    "#print(files)\n",
    "\n",
    "#tools = create_engines_tools(indexes)\n",
    "\n",
    "tools = [QueryEngineTool.from_defaults(\n",
    "    indexes[i].as_query_engine(), name=f\"engine_{i}\", description=f\"Provides information about {files[i]}\"\n",
    ") for i in range(len(indexes))]\n",
    "\n",
    "\n",
    "agent = OpenAIAgent.from_tools(\n",
    "    tools=tools,\n",
    "    llm=llm,\n",
    "    verbose=True\n",
    ")"
   ]
  },
  {
   "cell_type": "code",
   "execution_count": 4,
   "metadata": {},
   "outputs": [
    {
     "name": "stdout",
     "output_type": "stream",
     "text": [
      "Added user message to memory: What are the characteristics of Volkswagen ID.3 Pro\n",
      "=== Calling Function ===\n",
      "Calling function: engine_0 with args: {\n",
      "  \"input\": \"Volkswagen ID.3 Pro\"\n",
      "}\n",
      "Got output: The Volkswagen ID.3 Pro is a hatchback electric car with a range of 340 miles, rear-wheel drive, Type 2 CCS charging capability, falls under category C, seats 5 people, and is priced at 35,575.\n",
      "========================\n",
      "\n"
     ]
    },
    {
     "data": {
      "text/plain": [
       "AgentChatResponse(response='The Volkswagen ID.3 Pro is a hatchback electric car with the following characteristics:\\n\\n- Range: 340 miles\\n- Drive: Rear-wheel drive\\n- Charging Capability: Type 2 CCS\\n- Category: C\\n- Seating Capacity: 5 people\\n- Price: $35,575', sources=[ToolOutput(content='The Volkswagen ID.3 Pro is a hatchback electric car with a range of 340 miles, rear-wheel drive, Type 2 CCS charging capability, falls under category C, seats 5 people, and is priced at 35,575.', tool_name='engine_0', raw_input={'input': 'Volkswagen ID.3 Pro'}, raw_output=Response(response='The Volkswagen ID.3 Pro is a hatchback electric car with a range of 340 miles, rear-wheel drive, Type 2 CCS charging capability, falls under category C, seats 5 people, and is priced at 35,575.', source_nodes=[NodeWithScore(node=TextNode(id_='5db74dc4-2ef8-40cc-8a21-fbeb1dcdf2d0', embedding=None, metadata={'file_path': 'data/ElectricCarData_Clean.csv', 'file_name': 'ElectricCarData_Clean.csv', 'file_type': 'text/csv', 'file_size': 8195, 'creation_date': '2024-04-27', 'last_modified_date': '2024-04-27'}, excluded_embed_metadata_keys=['file_name', 'file_type', 'file_size', 'creation_date', 'last_modified_date', 'last_accessed_date'], excluded_llm_metadata_keys=['file_name', 'file_type', 'file_size', 'creation_date', 'last_modified_date', 'last_accessed_date'], relationships={<NodeRelationship.SOURCE: '1'>: RelatedNodeInfo(node_id='c6f7dcdc-0f1d-4de9-84e0-a8a5491a6337', node_type=<ObjectType.DOCUMENT: '4'>, metadata={'file_path': 'data/ElectricCarData_Clean.csv', 'file_name': 'ElectricCarData_Clean.csv', 'file_type': 'text/csv', 'file_size': 8195, 'creation_date': '2024-04-27', 'last_modified_date': '2024-04-27'}, hash='4651887966b90beb7d185036bd4168f4397e6988bdf5cf1e3f79a9870dab7f27'), <NodeRelationship.NEXT: '3'>: RelatedNodeInfo(node_id='2fbaae7e-77ca-41d8-b314-2b6d6ffe14bd', node_type=<ObjectType.TEXT: '1'>, metadata={}, hash='85245d8a421c96f98ad7d9ba0bd154d47ee93e1efe6c9ae840d68655cb6a795b')}, text='Tesla , Model 3 Long Range Dual Motor, 4.6, 233, 450, 161, 940, Yes, AWD, Type 2 CCS, Sedan, D, 5, 55480\\nVolkswagen , ID.3 Pure, 10.0, 160, 270, 167, 250, Yes, RWD, Type 2 CCS, Hatchback, C, 5, 30000\\nPolestar , 2, 4.7, 210, 400, 181, 620, Yes, AWD, Type 2 CCS, Liftback, D, 5, 56440\\nBMW , iX3 , 6.8, 180, 360, 206, 560, Yes, RWD, Type 2 CCS, SUV, D, 5, 68040\\nHonda , e , 9.5, 145, 170, 168, 190, Yes, RWD, Type 2 CCS, Hatchback, B, 4, 32997\\nLucid , Air , 2.8, 250, 610, 180, 620, Yes, AWD, Type 2 CCS, Sedan, F, 5, 105000\\nVolkswagen , e-Golf , 9.6, 150, 190, 168, 220, Yes, FWD, Type 2 CCS, Hatchback, C, 5, 31900\\nPeugeot , e-208 , 8.1, 150, 275, 164, 420, Yes, FWD, Type 2 CCS, Hatchback, B, 5, 29682\\nTesla , Model 3 Standard Range Plus, 5.6, 225, 310, 153, 650, Yes, RWD, Type 2 CCS, Sedan, D, 5, 46380\\nAudi , Q4 e-tron , 6.3, 180, 400, 193, 540, Yes, AWD, Type 2 CCS, SUV, D, 5, 55000\\nMercedes , EQC 400 4MATIC, 5.1, 180, 370, 216, 440, Yes, AWD, Type 2 CCS, SUV, D, 5, 69484\\nNissan , Leaf , 7.9, 144, 220, 164, 230, Yes, FWD, Type 2 CHAdeMO, Hatchback, C, 5, 29234\\nHyundai , Kona Electric 64 kWh, 7.9, 167, 400, 160, 380, Yes, FWD, Type 2 CCS, SUV, B, 5, 40795\\nBMW , i4 , 4.0, 200, 450, 178, 650, Yes, RWD, Type 2 CCS, Sedan, D, 5, 65000\\nHyundai , IONIQ Electric, 9.7, 165, 250, 153, 210, Yes, FWD, Type 2 CCS, Liftback, C, 5, 34459\\nVolkswagen , ID.3 Pro S, 7.9, 160, 440, 175, 590, Yes, RWD, Type 2 CCS, Hatchback, C, 4, 40936\\nPorsche , Taycan Turbo S, 2.8, 260, 375, 223, 780, Yes, AWD, Type 2 CCS, Sedan, F, 4, 180781\\nVolkswagen , e-Up!  11.9, 130, 195, 166, 170, Yes, FWD, Type 2 CCS, Hatchback, A, 4, 21421\\nMG , ZS EV, 8.2, 140, 220, 193, 260, Yes, FWD, Type 2 CCS, SUV, B, 5, 30000\\nMini , Cooper SE , 7.3, 150, 185, 156, 260, Yes, FWD, Type 2 CCS, Hatchback, B, 4, 31681\\nOpel , Corsa-e , 8.1, 150, 275, 164, 420, Yes, FWD, Type 2 CCS, Hatchback, B, 5, 29146\\nTesla , Model Y Long Range Dual Motor, 5.1, 217, 425, 171, 930, Yes, AWD, Type 2 CCS, SUV,', start_char_idx=None, end_char_idx=None, text_template='{metadata_str}\\n\\n{content}', metadata_template='{key}: {value}', metadata_seperator='\\n'), score=0.8076904306699063), NodeWithScore(node=TextNode(id_='8ef76168-d083-4aff-ad9c-d21a279363ff', embedding=None, metadata={'file_path': 'data/ElectricCarData_Clean.csv', 'file_name': 'ElectricCarData_Clean.csv', 'file_type': 'text/csv', 'file_size': 8195, 'creation_date': '2024-04-27', 'last_modified_date': '2024-04-27'}, excluded_embed_metadata_keys=['file_name', 'file_type', 'file_size', 'creation_date', 'last_modified_date', 'last_accessed_date'], excluded_llm_metadata_keys=['file_name', 'file_type', 'file_size', 'creation_date', 'last_modified_date', 'last_accessed_date'], relationships={<NodeRelationship.SOURCE: '1'>: RelatedNodeInfo(node_id='c6f7dcdc-0f1d-4de9-84e0-a8a5491a6337', node_type=<ObjectType.DOCUMENT: '4'>, metadata={'file_path': 'data/ElectricCarData_Clean.csv', 'file_name': 'ElectricCarData_Clean.csv', 'file_type': 'text/csv', 'file_size': 8195, 'creation_date': '2024-04-27', 'last_modified_date': '2024-04-27'}, hash='4651887966b90beb7d185036bd4168f4397e6988bdf5cf1e3f79a9870dab7f27'), <NodeRelationship.PREVIOUS: '2'>: RelatedNodeInfo(node_id='73cd6dec-fff3-492b-9b3a-7a7441586c03', node_type=<ObjectType.TEXT: '1'>, metadata={'file_path': 'data/ElectricCarData_Clean.csv', 'file_name': 'ElectricCarData_Clean.csv', 'file_type': 'text/csv', 'file_size': 8195, 'creation_date': '2024-04-27', 'last_modified_date': '2024-04-27'}, hash='fd8e2b750f58870bc162026a21a72c8f6b5d0e65d0d4c2140eaa6cb75bf01fa0')}, text='Pickup, N, 6, 45000\\nAudi , e-tron Sportback 50 quattro, 6.8, 190, 295, 219, 470, Yes, AWD, Type 2 CCS, SUV, E, 5, 69551\\nSkoda , Enyaq iV vRS, 6.2, 180, 400, 193, 540, Yes, AWD, Type 2 CCS, SUV, C, 5, 47500\\nSkoda , Enyaq iV 60, 9.0, 160, 320, 181, 440, Yes, RWD, Type 2 CCS, SUV, C, 5, 37500\\nAudi , e-tron S 55 quattro, 4.5, 210, 320, 270, 510, Yes, AWD, Type 2 CCS, SUV, E, 5, 93800\\nSmart , EQ fortwo cabrio, 11.9, 130, 95, 176, -, No, RWD, Type 2, Cabrio, A, 2, 24565\\nKia , e-Soul 64 kWh, 7.9, 167, 365, 175, 320, Yes, FWD, Type 2 CCS, SUV, B, 5, 36837\\nNissan , Ariya e-4ORCE 87kWh, 5.7, 200, 420, 207, 500, Yes, AWD, Type 2 CCS, Hatchback, C, 5, 57500\\nFiat , 500e Convertible, 9.0, 150, 250, 168, 330, Yes, FWD, Type 2 CCS, Cabrio, B, 4, 37900\\nVolkswagen , ID.3 Pro Performance, 7.3, 160, 340, 171, 470, Yes, RWD, Type 2 CCS, Hatchback, C, 5, 35575\\nKia , e-Soul 39 kWh, 9.9, 157, 230, 170, 220, Yes, FWD, Type 2 CCS, SUV, B, 5, 33133\\nByton , M-Byte 72 kWh 2WD, 7.5, 190, 325, 222, 420, Yes, RWD, Type 2 CCS, SUV, E, 5, 53500\\nNissan , Ariya 63kWh, 7.5, 160, 330, 191, 440, Yes, FWD, Type 2 CCS, Hatchback, C, 5, 45000\\nAudi , e-tron S Sportback 55 quattro, 4.5, 210, 335, 258, 540, Yes, AWD, Type 2 CCS, SUV, E, 5, 96050\\nNissan , Ariya e-4ORCE 63kWh, 5.9, 200, 325, 194, 440, Yes, AWD, Type 2 CCS, Hatchback, C, 5, 50000\\nNissan , Ariya e-4ORCE 87kWh Performance, 5.1, 200, 375, 232, 450, Yes, AWD, Type 2 CCS, Hatchback, C, 5, 65000\\nByton , M-Byte 95 kWh 2WD, 7.5, 190, 400, 238, 480, Yes, AWD, Type 2 CCS, SUV, E, 5, 62000', start_char_idx=7812, end_char_idx=9335, text_template='{metadata_str}\\n\\n{content}', metadata_template='{key}: {value}', metadata_seperator='\\n'), score=0.7925518250451097)], metadata={'5db74dc4-2ef8-40cc-8a21-fbeb1dcdf2d0': {'file_path': 'data/ElectricCarData_Clean.csv', 'file_name': 'ElectricCarData_Clean.csv', 'file_type': 'text/csv', 'file_size': 8195, 'creation_date': '2024-04-27', 'last_modified_date': '2024-04-27'}, '8ef76168-d083-4aff-ad9c-d21a279363ff': {'file_path': 'data/ElectricCarData_Clean.csv', 'file_name': 'ElectricCarData_Clean.csv', 'file_type': 'text/csv', 'file_size': 8195, 'creation_date': '2024-04-27', 'last_modified_date': '2024-04-27'}}), is_error=False)], source_nodes=[NodeWithScore(node=TextNode(id_='5db74dc4-2ef8-40cc-8a21-fbeb1dcdf2d0', embedding=None, metadata={'file_path': 'data/ElectricCarData_Clean.csv', 'file_name': 'ElectricCarData_Clean.csv', 'file_type': 'text/csv', 'file_size': 8195, 'creation_date': '2024-04-27', 'last_modified_date': '2024-04-27'}, excluded_embed_metadata_keys=['file_name', 'file_type', 'file_size', 'creation_date', 'last_modified_date', 'last_accessed_date'], excluded_llm_metadata_keys=['file_name', 'file_type', 'file_size', 'creation_date', 'last_modified_date', 'last_accessed_date'], relationships={<NodeRelationship.SOURCE: '1'>: RelatedNodeInfo(node_id='c6f7dcdc-0f1d-4de9-84e0-a8a5491a6337', node_type=<ObjectType.DOCUMENT: '4'>, metadata={'file_path': 'data/ElectricCarData_Clean.csv', 'file_name': 'ElectricCarData_Clean.csv', 'file_type': 'text/csv', 'file_size': 8195, 'creation_date': '2024-04-27', 'last_modified_date': '2024-04-27'}, hash='4651887966b90beb7d185036bd4168f4397e6988bdf5cf1e3f79a9870dab7f27'), <NodeRelationship.NEXT: '3'>: RelatedNodeInfo(node_id='2fbaae7e-77ca-41d8-b314-2b6d6ffe14bd', node_type=<ObjectType.TEXT: '1'>, metadata={}, hash='85245d8a421c96f98ad7d9ba0bd154d47ee93e1efe6c9ae840d68655cb6a795b')}, text='Tesla , Model 3 Long Range Dual Motor, 4.6, 233, 450, 161, 940, Yes, AWD, Type 2 CCS, Sedan, D, 5, 55480\\nVolkswagen , ID.3 Pure, 10.0, 160, 270, 167, 250, Yes, RWD, Type 2 CCS, Hatchback, C, 5, 30000\\nPolestar , 2, 4.7, 210, 400, 181, 620, Yes, AWD, Type 2 CCS, Liftback, D, 5, 56440\\nBMW , iX3 , 6.8, 180, 360, 206, 560, Yes, RWD, Type 2 CCS, SUV, D, 5, 68040\\nHonda , e , 9.5, 145, 170, 168, 190, Yes, RWD, Type 2 CCS, Hatchback, B, 4, 32997\\nLucid , Air , 2.8, 250, 610, 180, 620, Yes, AWD, Type 2 CCS, Sedan, F, 5, 105000\\nVolkswagen , e-Golf , 9.6, 150, 190, 168, 220, Yes, FWD, Type 2 CCS, Hatchback, C, 5, 31900\\nPeugeot , e-208 , 8.1, 150, 275, 164, 420, Yes, FWD, Type 2 CCS, Hatchback, B, 5, 29682\\nTesla , Model 3 Standard Range Plus, 5.6, 225, 310, 153, 650, Yes, RWD, Type 2 CCS, Sedan, D, 5, 46380\\nAudi , Q4 e-tron , 6.3, 180, 400, 193, 540, Yes, AWD, Type 2 CCS, SUV, D, 5, 55000\\nMercedes , EQC 400 4MATIC, 5.1, 180, 370, 216, 440, Yes, AWD, Type 2 CCS, SUV, D, 5, 69484\\nNissan , Leaf , 7.9, 144, 220, 164, 230, Yes, FWD, Type 2 CHAdeMO, Hatchback, C, 5, 29234\\nHyundai , Kona Electric 64 kWh, 7.9, 167, 400, 160, 380, Yes, FWD, Type 2 CCS, SUV, B, 5, 40795\\nBMW , i4 , 4.0, 200, 450, 178, 650, Yes, RWD, Type 2 CCS, Sedan, D, 5, 65000\\nHyundai , IONIQ Electric, 9.7, 165, 250, 153, 210, Yes, FWD, Type 2 CCS, Liftback, C, 5, 34459\\nVolkswagen , ID.3 Pro S, 7.9, 160, 440, 175, 590, Yes, RWD, Type 2 CCS, Hatchback, C, 4, 40936\\nPorsche , Taycan Turbo S, 2.8, 260, 375, 223, 780, Yes, AWD, Type 2 CCS, Sedan, F, 4, 180781\\nVolkswagen , e-Up!  11.9, 130, 195, 166, 170, Yes, FWD, Type 2 CCS, Hatchback, A, 4, 21421\\nMG , ZS EV, 8.2, 140, 220, 193, 260, Yes, FWD, Type 2 CCS, SUV, B, 5, 30000\\nMini , Cooper SE , 7.3, 150, 185, 156, 260, Yes, FWD, Type 2 CCS, Hatchback, B, 4, 31681\\nOpel , Corsa-e , 8.1, 150, 275, 164, 420, Yes, FWD, Type 2 CCS, Hatchback, B, 5, 29146\\nTesla , Model Y Long Range Dual Motor, 5.1, 217, 425, 171, 930, Yes, AWD, Type 2 CCS, SUV,', start_char_idx=None, end_char_idx=None, text_template='{metadata_str}\\n\\n{content}', metadata_template='{key}: {value}', metadata_seperator='\\n'), score=0.8076904306699063), NodeWithScore(node=TextNode(id_='8ef76168-d083-4aff-ad9c-d21a279363ff', embedding=None, metadata={'file_path': 'data/ElectricCarData_Clean.csv', 'file_name': 'ElectricCarData_Clean.csv', 'file_type': 'text/csv', 'file_size': 8195, 'creation_date': '2024-04-27', 'last_modified_date': '2024-04-27'}, excluded_embed_metadata_keys=['file_name', 'file_type', 'file_size', 'creation_date', 'last_modified_date', 'last_accessed_date'], excluded_llm_metadata_keys=['file_name', 'file_type', 'file_size', 'creation_date', 'last_modified_date', 'last_accessed_date'], relationships={<NodeRelationship.SOURCE: '1'>: RelatedNodeInfo(node_id='c6f7dcdc-0f1d-4de9-84e0-a8a5491a6337', node_type=<ObjectType.DOCUMENT: '4'>, metadata={'file_path': 'data/ElectricCarData_Clean.csv', 'file_name': 'ElectricCarData_Clean.csv', 'file_type': 'text/csv', 'file_size': 8195, 'creation_date': '2024-04-27', 'last_modified_date': '2024-04-27'}, hash='4651887966b90beb7d185036bd4168f4397e6988bdf5cf1e3f79a9870dab7f27'), <NodeRelationship.PREVIOUS: '2'>: RelatedNodeInfo(node_id='73cd6dec-fff3-492b-9b3a-7a7441586c03', node_type=<ObjectType.TEXT: '1'>, metadata={'file_path': 'data/ElectricCarData_Clean.csv', 'file_name': 'ElectricCarData_Clean.csv', 'file_type': 'text/csv', 'file_size': 8195, 'creation_date': '2024-04-27', 'last_modified_date': '2024-04-27'}, hash='fd8e2b750f58870bc162026a21a72c8f6b5d0e65d0d4c2140eaa6cb75bf01fa0')}, text='Pickup, N, 6, 45000\\nAudi , e-tron Sportback 50 quattro, 6.8, 190, 295, 219, 470, Yes, AWD, Type 2 CCS, SUV, E, 5, 69551\\nSkoda , Enyaq iV vRS, 6.2, 180, 400, 193, 540, Yes, AWD, Type 2 CCS, SUV, C, 5, 47500\\nSkoda , Enyaq iV 60, 9.0, 160, 320, 181, 440, Yes, RWD, Type 2 CCS, SUV, C, 5, 37500\\nAudi , e-tron S 55 quattro, 4.5, 210, 320, 270, 510, Yes, AWD, Type 2 CCS, SUV, E, 5, 93800\\nSmart , EQ fortwo cabrio, 11.9, 130, 95, 176, -, No, RWD, Type 2, Cabrio, A, 2, 24565\\nKia , e-Soul 64 kWh, 7.9, 167, 365, 175, 320, Yes, FWD, Type 2 CCS, SUV, B, 5, 36837\\nNissan , Ariya e-4ORCE 87kWh, 5.7, 200, 420, 207, 500, Yes, AWD, Type 2 CCS, Hatchback, C, 5, 57500\\nFiat , 500e Convertible, 9.0, 150, 250, 168, 330, Yes, FWD, Type 2 CCS, Cabrio, B, 4, 37900\\nVolkswagen , ID.3 Pro Performance, 7.3, 160, 340, 171, 470, Yes, RWD, Type 2 CCS, Hatchback, C, 5, 35575\\nKia , e-Soul 39 kWh, 9.9, 157, 230, 170, 220, Yes, FWD, Type 2 CCS, SUV, B, 5, 33133\\nByton , M-Byte 72 kWh 2WD, 7.5, 190, 325, 222, 420, Yes, RWD, Type 2 CCS, SUV, E, 5, 53500\\nNissan , Ariya 63kWh, 7.5, 160, 330, 191, 440, Yes, FWD, Type 2 CCS, Hatchback, C, 5, 45000\\nAudi , e-tron S Sportback 55 quattro, 4.5, 210, 335, 258, 540, Yes, AWD, Type 2 CCS, SUV, E, 5, 96050\\nNissan , Ariya e-4ORCE 63kWh, 5.9, 200, 325, 194, 440, Yes, AWD, Type 2 CCS, Hatchback, C, 5, 50000\\nNissan , Ariya e-4ORCE 87kWh Performance, 5.1, 200, 375, 232, 450, Yes, AWD, Type 2 CCS, Hatchback, C, 5, 65000\\nByton , M-Byte 95 kWh 2WD, 7.5, 190, 400, 238, 480, Yes, AWD, Type 2 CCS, SUV, E, 5, 62000', start_char_idx=7812, end_char_idx=9335, text_template='{metadata_str}\\n\\n{content}', metadata_template='{key}: {value}', metadata_seperator='\\n'), score=0.7925518250451097)], is_dummy_stream=False)"
      ]
     },
     "execution_count": 4,
     "metadata": {},
     "output_type": "execute_result"
    }
   ],
   "source": [
    "agent.chat(\"What are the characteristics of Volkswagen ID.3 Pro\")"
   ]
  },
  {
   "cell_type": "code",
   "execution_count": null,
   "metadata": {},
   "outputs": [],
   "source": []
  }
 ],
 "metadata": {
  "kernelspec": {
   "display_name": ".venv",
   "language": "python",
   "name": "python3"
  },
  "language_info": {
   "codemirror_mode": {
    "name": "ipython",
    "version": 3
   },
   "file_extension": ".py",
   "mimetype": "text/x-python",
   "name": "python",
   "nbconvert_exporter": "python",
   "pygments_lexer": "ipython3",
   "version": "3.10.12"
  }
 },
 "nbformat": 4,
 "nbformat_minor": 2
}
