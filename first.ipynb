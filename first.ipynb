{
 "cells": [
  {
   "cell_type": "code",
   "execution_count": 1,
   "metadata": {},
   "outputs": [],
   "source": [
    "from llama_index.core import SimpleDirectoryReader\n",
    "from llama_index.core import VectorStoreIndex\n",
    "from llama_index.core import Document\n",
    "from llama_index.embeddings.openai import OpenAIEmbedding\n",
    "from llama_index.core.node_parser import SentenceSplitter\n",
    "from llama_index.core.extractors import TitleExtractor\n",
    "from llama_index.core.ingestion import IngestionPipeline\n",
    "from llama_index.core.storage.docstore import SimpleDocumentStore\n",
    "from llama_index.core.storage.index_store import SimpleIndexStore\n",
    "from llama_index.core.vector_stores import SimpleVectorStore\n",
    "from llama_index.core import StorageContext\n",
    "from llama_index.core.query_pipeline import QueryPipeline\n",
    "#from llama_index.embeddings.huggingface import HuggingFaceEmbedding\n",
    "from llama_index.agent.openai import OpenAIAgent\n",
    "#from llama_index.llms.openai_like import OpenAILike\n",
    "from llama_index.core.tools import QueryEngineTool, ToolMetadata\n",
    "import os\n",
    "from llama_index.llms.openai import OpenAI\n",
    "from llama_index.core.agent import ReActAgent\n",
    "from llama_index.agent.openai import OpenAIAgent\n",
    "from llama_index.core import (\n",
    "    load_index_from_storage,\n",
    "    StorageContext,\n",
    "    VectorStoreIndex,\n",
    ")\n",
    "from llama_index.core import SummaryIndex\n",
    "from llama_index.core.tools import QueryEngineTool, ToolMetadata\n",
    "from llama_index.core.node_parser import SentenceSplitter\n",
    "import os\n",
    "from tqdm.notebook import tqdm\n",
    "import pickle\n",
    "from pathlib import Path\n",
    "\n",
    "# Load environment variables from .env file\n",
    "from dotenv import load_dotenv\n",
    "load_dotenv()\n",
    "\n",
    "# Retrieve the OpenAI API key from the environment\n",
    "OPENAI_API_KEY = os.getenv('OPENAI_API_KEY')\n",
    "#print(OPENAI_API_KEY)"
   ]
  },
  {
   "cell_type": "code",
   "execution_count": 2,
   "metadata": {
    "ExecuteTime": {
     "end_time": "2024-04-27T08:01:30.759521Z",
     "start_time": "2024-04-27T08:01:30.744798Z"
    }
   },
   "outputs": [],
   "source": [
    "def read_folder(path):\n",
    "    # Walk through all files in the given path and return a list of documents\n",
    "    documents = []\n",
    "    all_files = []\n",
    "    for root, dirs, files in os.walk(path):\n",
    "        all_files.append(files)\n",
    "        for file in files:\n",
    "            document_path = os.path.join(root, file)\n",
    "            documents.append(SimpleDirectoryReader(input_files=[document_path]).load_data())\n",
    "            \n",
    "\n",
    "    indexes = []\n",
    "    for i in documents:\n",
    "        indexes.append(VectorStoreIndex.from_documents(documents=i))\n",
    "        \n",
    "    return indexes, files"
   ]
  },
  {
   "cell_type": "code",
   "execution_count": 3,
   "metadata": {
    "ExecuteTime": {
     "end_time": "2024-04-27T08:01:38.262268Z",
     "start_time": "2024-04-27T08:01:30.762533Z"
    }
   },
   "outputs": [
    {
     "name": "stdout",
     "output_type": "stream",
     "text": [
      "Failed to load file data\\customer data - preffered car price.csv with error: 'utf-8' codec can't decode byte 0xc5 in position 8694: invalid continuation byte. Skipping...\n"
     ]
    }
   ],
   "source": [
    "indexes, files = read_folder('data/')\n",
    "\n",
    "llm = OpenAI(model=\"gpt-3.5-turbo-0613\")\n",
    "#print(files)\n",
    "\n",
    "#tools = create_engines_tools(indexes)\n",
    "\n",
    "tools = [QueryEngineTool.from_defaults(\n",
    "    indexes[i].as_query_engine(), name=f\"engine_{i}\", description=f\"Provides information about {files[i]}\"\n",
    ") for i in range(len(indexes))]\n",
    "\n",
    "\n",
    "agent = OpenAIAgent.from_tools(\n",
    "    tools=tools,\n",
    "    llm=llm,\n",
    "    verbose=True\n",
    ")"
   ]
  },
  {
   "cell_type": "code",
   "execution_count": 4,
   "metadata": {
    "ExecuteTime": {
     "end_time": "2024-04-27T08:01:43.892745Z",
     "start_time": "2024-04-27T08:01:38.264293Z"
    }
   },
   "outputs": [
    {
     "name": "stdout",
     "output_type": "stream",
     "text": [
      "Added user message to memory: What are the characteristics of Volkswagen ID.3 Pro\n",
      "=== Calling Function ===\n",
      "Calling function: engine_2 with args: {\n",
      "  \"input\": \"Volkswagen ID.3 Pro\"\n",
      "}\n",
      "Got output: The Volkswagen ID.3 Pro is a hatchback electric car with a range of 340 miles, rear-wheel drive, Type 2 CCS charging capability, falls under category C, seats 5 people, and is priced at 35575.\n",
      "========================\n"
     ]
    },
    {
     "data": {
      "text/plain": "'The characteristics of the Volkswagen ID.3 Pro are as follows:\\n\\n1. Range: The ID.3 Pro has a range of 340 miles, which means it can travel a significant distance on a single charge.\\n\\n2. Drive: It is a rear-wheel drive vehicle, which provides good traction and handling.\\n\\n3. Charging Capability: The ID.3 Pro is equipped with Type 2 CCS charging capability, allowing it to be charged at various charging stations.\\n\\n4. Category: The ID.3 Pro falls under category C, which indicates its size and classification.\\n\\n5. Seating Capacity: It has a seating capacity of 5 people, making it suitable for small families or groups.\\n\\n6. Price: The price of the Volkswagen ID.3 Pro is 35,575, which may vary depending on the specific model and additional features.\\n\\nThese characteristics make the Volkswagen ID.3 Pro a versatile and efficient electric car option.'"
     },
     "execution_count": 4,
     "metadata": {},
     "output_type": "execute_result"
    }
   ],
   "source": [
    "agent.chat(\"What are the characteristics of Volkswagen ID.3 Pro\").response"
   ]
  },
  {
   "cell_type": "code",
   "outputs": [
    {
     "name": "stdout",
     "output_type": "stream",
     "text": [
      "Requirement already satisfied: pyngrok in c:\\users\\79779\\anaconda3\\lib\\site-packages (7.1.6)\n",
      "Requirement already satisfied: nest_asyncio in c:\\users\\79779\\anaconda3\\lib\\site-packages (1.6.0)\n",
      "Requirement already satisfied: fastapi in c:\\users\\79779\\anaconda3\\lib\\site-packages (0.110.2)\n",
      "Requirement already satisfied: uvicorn in c:\\users\\79779\\anaconda3\\lib\\site-packages (0.29.0)\n",
      "Requirement already satisfied: loguru in c:\\users\\79779\\anaconda3\\lib\\site-packages (0.7.2)\n",
      "Requirement already satisfied: websockets in c:\\users\\79779\\anaconda3\\lib\\site-packages (12.0)\n",
      "Requirement already satisfied: PyYAML>=5.1 in c:\\users\\79779\\anaconda3\\lib\\site-packages (from pyngrok) (6.0.1)\n",
      "Requirement already satisfied: pydantic!=1.8,!=1.8.1,!=2.0.0,!=2.0.1,!=2.1.0,<3.0.0,>=1.7.4 in c:\\users\\79779\\anaconda3\\lib\\site-packages (from fastapi) (1.10.12)\n",
      "Requirement already satisfied: starlette<0.38.0,>=0.37.2 in c:\\users\\79779\\anaconda3\\lib\\site-packages (from fastapi) (0.37.2)\n",
      "Requirement already satisfied: typing-extensions>=4.8.0 in c:\\users\\79779\\anaconda3\\lib\\site-packages (from fastapi) (4.11.0)\n",
      "Requirement already satisfied: click>=7.0 in c:\\users\\79779\\anaconda3\\lib\\site-packages (from uvicorn) (8.1.7)\n",
      "Requirement already satisfied: h11>=0.8 in c:\\users\\79779\\anaconda3\\lib\\site-packages (from uvicorn) (0.14.0)\n",
      "Requirement already satisfied: colorama>=0.3.4 in c:\\users\\79779\\anaconda3\\lib\\site-packages (from loguru) (0.4.6)\n",
      "Requirement already satisfied: win32-setctime>=1.0.0 in c:\\users\\79779\\anaconda3\\lib\\site-packages (from loguru) (1.1.0)\n",
      "Requirement already satisfied: anyio<5,>=3.4.0 in c:\\users\\79779\\anaconda3\\lib\\site-packages (from starlette<0.38.0,>=0.37.2->fastapi) (3.5.0)\n",
      "Requirement already satisfied: idna>=2.8 in c:\\users\\79779\\anaconda3\\lib\\site-packages (from anyio<5,>=3.4.0->starlette<0.38.0,>=0.37.2->fastapi) (3.4)\n",
      "Requirement already satisfied: sniffio>=1.1 in c:\\users\\79779\\anaconda3\\lib\\site-packages (from anyio<5,>=3.4.0->starlette<0.38.0,>=0.37.2->fastapi) (1.3.0)\n",
      "Note: you may need to restart the kernel to use updated packages.\n"
     ]
    }
   ],
   "source": [
    "%pip install pyngrok nest_asyncio fastapi uvicorn loguru websockets"
   ],
   "metadata": {
    "collapsed": false,
    "ExecuteTime": {
     "end_time": "2024-04-27T08:01:51.788907Z",
     "start_time": "2024-04-27T08:01:43.898400Z"
    }
   },
   "execution_count": 5
  },
  {
   "cell_type": "code",
   "execution_count": 6,
   "metadata": {
    "ExecuteTime": {
     "end_time": "2024-04-27T08:01:51.965570Z",
     "start_time": "2024-04-27T08:01:51.793336Z"
    }
   },
   "outputs": [],
   "source": [
    "from fastapi import FastAPI, WebSocket, WebSocketDisconnect\n",
    "from fastapi.responses import HTMLResponse\n",
    "import asyncio\n",
    "#from bs4 import BeautifulSoup\n",
    "\n",
    "socket = 8000\n",
    "\n",
    "app = FastAPI()\n",
    "\n",
    "'''@app.get(\"/\")\n",
    "async def get():\n",
    "    return HTMLResponse(open(\"index.html\").read())\n",
    "\n",
    "@app.websocket(\"/ws\")\n",
    "async def websocket_endpoint(websocket: WebSocket):\n",
    "    await websocket.accept()\n",
    "    while True:\n",
    "        data = await websocket.receive_text()\n",
    "        await websocket.send_text(f\"Message received: {data}\")\n",
    "'''\n",
    "html = open(\"web/index.html\",\"r\").read()\n",
    "\n",
    "@app.get(\"/\")\n",
    "async def get():\n",
    "    return HTMLResponse(html)\n",
    "\n",
    "@app.websocket(\"/ws\")\n",
    "async def websocket_endpoint(websocket: WebSocket):\n",
    "    await websocket.accept()\n",
    "    while True:\n",
    "        data = await websocket.receive_text()\n",
    "        await websocket.send_text(f\"ShalopAI: {agent.chat(data).response}\")\n",
    "\n",
    "\n"
   ]
  },
  {
   "cell_type": "code",
   "outputs": [
    {
     "data": {
      "text/plain": "'from fastapi import FastAPI\\nfrom pydantic import BaseModel\\nfrom loguru import logger\\n\\napp = FastAPI()\\n\\nclass UserRequestIn(BaseModel):\\n    text: str\\n    \\n@app.post(\"/test\")\\ndef index(request: UserRequestIn):\\n    logger.debug(request)\\n    return {\"ok\": True}'"
     },
     "execution_count": 7,
     "metadata": {},
     "output_type": "execute_result"
    }
   ],
   "source": [
    "'''from fastapi import FastAPI\n",
    "from pydantic import BaseModel\n",
    "from loguru import logger\n",
    "\n",
    "app = FastAPI()\n",
    "\n",
    "class UserRequestIn(BaseModel):\n",
    "    text: str\n",
    "    \n",
    "@app.post(\"/test\")\n",
    "def index(request: UserRequestIn):\n",
    "    logger.debug(request)\n",
    "    return {\"ok\": True}'''"
   ],
   "metadata": {
    "collapsed": false,
    "ExecuteTime": {
     "end_time": "2024-04-27T08:01:51.975580Z",
     "start_time": "2024-04-27T08:01:51.966861Z"
    }
   },
   "execution_count": 7
  },
  {
   "cell_type": "code",
   "outputs": [
    {
     "name": "stdout",
     "output_type": "stream",
     "text": [
      "Authtoken saved to configuration file: C:\\Users\\79779\\AppData\\Local/ngrok/ngrok.yml\n"
     ]
    }
   ],
   "source": [
    "NGROK_AUTH_TOKEN=os.getenv(\"NGROK_AUTH_TOKEN\")\n",
    "!ngrok config add-authtoken {NGROK_AUTH_TOKEN}"
   ],
   "metadata": {
    "collapsed": false,
    "ExecuteTime": {
     "end_time": "2024-04-27T08:01:52.424173Z",
     "start_time": "2024-04-27T08:01:51.978008Z"
    }
   },
   "execution_count": 8
  },
  {
   "cell_type": "code",
   "outputs": [
    {
     "data": {
      "text/plain": "<NgrokTunnel: \"https://a2fd-2001-4ca0-0-f233-e413-8a2b-1659-4a1a.ngrok-free.app\" -> \"http://localhost:8000\">"
     },
     "execution_count": 9,
     "metadata": {},
     "output_type": "execute_result"
    }
   ],
   "source": [
    "from pyngrok import ngrok\n",
    "#register on ngrok.com and get a token here: https://dashboard.ngrok.com/get-started/your-authtoken\n",
    "# put it then in .env under NGROK_AUTH_TOKEN\n",
    "\n",
    "ngrok_tunnel = ngrok.connect(socket)\n",
    "\n",
    "ngrok_tunnel"
   ],
   "metadata": {
    "collapsed": false,
    "ExecuteTime": {
     "end_time": "2024-04-27T08:01:53.283662Z",
     "start_time": "2024-04-27T08:01:52.426308Z"
    }
   },
   "execution_count": 9
  },
  {
   "cell_type": "code",
   "outputs": [
    {
     "name": "stderr",
     "output_type": "stream",
     "text": [
      "INFO:     Started server process [7484]\n",
      "INFO:     Waiting for application startup.\n",
      "INFO:     Application startup complete.\n",
      "INFO:     Uvicorn running on http://127.0.0.1:8000 (Press CTRL+C to quit)\n"
     ]
    },
    {
     "name": "stdout",
     "output_type": "stream",
     "text": [
      "INFO:     127.0.0.1:50245 - \"GET / HTTP/1.1\" 200 OK\n"
     ]
    },
    {
     "name": "stderr",
     "output_type": "stream",
     "text": [
      "INFO:     ('127.0.0.1', 50246) - \"WebSocket /ws\" [accepted]\n",
      "INFO:     connection open\n"
     ]
    },
    {
     "name": "stdout",
     "output_type": "stream",
     "text": [
      "Added user message to memory: lol\n"
     ]
    }
   ],
   "source": [
    "import nest_asyncio\n",
    "import uvicorn\n",
    "\n",
    "nest_asyncio.apply()\n",
    "uvicorn.run(app, port=socket)"
   ],
   "metadata": {
    "collapsed": false,
    "is_executing": true,
    "ExecuteTime": {
     "start_time": "2024-04-27T08:01:53.287836Z"
    }
   },
   "execution_count": null
  },
  {
   "cell_type": "code",
   "outputs": [],
   "source": [],
   "metadata": {
    "collapsed": false,
    "is_executing": true
   }
  }
 ],
 "metadata": {
  "kernelspec": {
   "display_name": ".venv",
   "language": "python",
   "name": "python3"
  },
  "language_info": {
   "codemirror_mode": {
    "name": "ipython",
    "version": 3
   },
   "file_extension": ".py",
   "mimetype": "text/x-python",
   "name": "python",
   "nbconvert_exporter": "python",
   "pygments_lexer": "ipython3",
   "version": "3.10.12"
  }
 },
 "nbformat": 4,
 "nbformat_minor": 2
}
