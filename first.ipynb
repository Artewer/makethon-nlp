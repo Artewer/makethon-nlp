{
 "cells": [
  {
   "cell_type": "code",
   "execution_count": 1,
   "metadata": {},
   "outputs": [],
   "source": [
    "from llama_index.core import SimpleDirectoryReader\n",
    "from llama_index.core import VectorStoreIndex\n",
    "from llama_index.core import Document\n",
    "from llama_index.embeddings.openai import OpenAIEmbedding\n",
    "from llama_index.core.node_parser import SentenceSplitter\n",
    "from llama_index.core.extractors import TitleExtractor\n",
    "from llama_index.core.ingestion import IngestionPipeline\n",
    "from llama_index.core.storage.docstore import SimpleDocumentStore\n",
    "from llama_index.core.storage.index_store import SimpleIndexStore\n",
    "from llama_index.core.vector_stores import SimpleVectorStore\n",
    "from llama_index.core import StorageContext\n",
    "from llama_index.core.query_pipeline import QueryPipeline\n",
    "#from llama_index.embeddings.huggingface import HuggingFaceEmbedding\n",
    "from llama_index.agent.openai import OpenAIAgent\n",
    "#from llama_index.llms.openai_like import OpenAILike\n",
    "from llama_index.core.tools import QueryEngineTool, ToolMetadata\n",
    "import os\n",
    "from llama_index.llms.openai import OpenAI\n",
    "from llama_index.core.agent import ReActAgent\n",
    "from llama_index.agent.openai import OpenAIAgent\n",
    "from llama_index.core import (\n",
    "    load_index_from_storage,\n",
    "    StorageContext,\n",
    "    VectorStoreIndex,\n",
    ")\n",
    "from llama_index.core import SummaryIndex\n",
    "from llama_index.core.tools import QueryEngineTool, ToolMetadata\n",
    "from llama_index.core.node_parser import SentenceSplitter\n",
    "import os\n",
    "from tqdm.notebook import tqdm\n",
    "import pickle\n",
    "from pathlib import Path\n",
    "\n",
    "# Load environment variables from .env file\n",
    "from dotenv import load_dotenv\n",
    "load_dotenv()\n",
    "\n",
    "# Retrieve the OpenAI API key from the environment\n",
    "OPENAI_API_KEY = os.getenv('OPENAI_API_KEY')\n"
   ]
  },
  {
   "cell_type": "code",
   "execution_count": 2,
   "metadata": {},
   "outputs": [],
   "source": [
    "def read_folder(path):\n",
    "    # Walk through all files in the given path and return a list of documents\n",
    "    documents = []\n",
    "    all_files = []\n",
    "    for root, dirs, files in os.walk(path):\n",
    "        all_files.append(files)\n",
    "        for file in files:\n",
    "            document_path = os.path.join(root, file)\n",
    "            documents.append(SimpleDirectoryReader(input_files=[document_path]).load_data())\n",
    "            \n",
    "\n",
    "    indexes = []\n",
    "    for i in documents:\n",
    "        indexes.append(VectorStoreIndex.from_documents(documents=i))\n",
    "        \n",
    "    return indexes, files"
   ]
  },
  {
   "cell_type": "code",
   "execution_count": 3,
   "metadata": {},
   "outputs": [
    {
     "name": "stdout",
     "output_type": "stream",
     "text": [
      "Failed to load file data/customer data - preffered car price.csv with error: 'utf-8' codec can't decode byte 0xc5 in position 8694: invalid continuation byte. Skipping...\n"
     ]
    }
   ],
   "source": [
    "indexes, files = read_folder('data/')\n",
    "\n",
    "llm = OpenAI(model=\"gpt-3.5-turbo-0613\")\n",
    "#print(files)\n",
    "\n",
    "#tools = create_engines_tools(indexes)\n",
    "\n",
    "tools = [QueryEngineTool.from_defaults(\n",
    "    indexes[i].as_query_engine(), name=f\"engine_{i}\", description=f\"Provides information about {files[i]}\"\n",
    ") for i in range(len(indexes))]\n",
    "\n",
    "\n",
    "agent = OpenAIAgent.from_tools(\n",
    "    tools=tools,\n",
    "    llm=llm,\n",
    "    verbose=True\n",
    ")"
   ]
  },
  {
   "cell_type": "code",
   "execution_count": 5,
   "metadata": {},
   "outputs": [
    {
     "name": "stdout",
     "output_type": "stream",
     "text": [
      "Added user message to memory: What are the characteristics of Volkswagen ID.3 Pro\n",
      "=== Calling Function ===\n",
      "Calling function: engine_1 with args: {\n",
      "  \"input\": \"Volkswagen ID.3 Pro\"\n",
      "}\n",
      "Got output: The Volkswagen ID.3 Pro is an electric car model that falls under the category of Battery Electric Vehicles (BEVs). These types of vehicles offer a significant efficiency advantage in individual mobility, consuming up to four times less energy than traditional internal combustion engine cars. BEVs like the Volkswagen ID.3 Pro need to be primarily charged with electricity from renewable sources to maximize their environmental benefits. The efficiency of BEVs is highlighted by their energy consumption, which is significantly lower compared to Internal Combustion Engine Vehicles (ICEVs) and Fuel Cell Vehicles (FCVs).\n",
      "========================\n",
      "\n"
     ]
    },
    {
     "data": {
      "text/plain": [
       "'The Volkswagen ID.3 Pro is an electric car model that falls under the category of Battery Electric Vehicles (BEVs). These types of vehicles offer a significant efficiency advantage in individual mobility, consuming up to four times less energy than traditional internal combustion engine cars. BEVs like the Volkswagen ID.3 Pro need to be primarily charged with electricity from renewable sources to maximize their environmental benefits. The efficiency of BEVs is highlighted by their energy consumption, which is significantly lower compared to Internal Combustion Engine Vehicles (ICEVs) and Fuel Cell Vehicles (FCVs).'"
      ]
     },
     "execution_count": 5,
     "metadata": {},
     "output_type": "execute_result"
    }
   ],
   "source": [
    "agent.chat(\"What are the characteristics of Volkswagen ID.3 Pro\").response"
   ]
  },
  {
   "cell_type": "code",
   "execution_count": null,
   "metadata": {},
   "outputs": [],
   "source": []
  }
 ],
 "metadata": {
  "kernelspec": {
   "display_name": ".venv",
   "language": "python",
   "name": "python3"
  },
  "language_info": {
   "codemirror_mode": {
    "name": "ipython",
    "version": 3
   },
   "file_extension": ".py",
   "mimetype": "text/x-python",
   "name": "python",
   "nbconvert_exporter": "python",
   "pygments_lexer": "ipython3",
   "version": "3.10.12"
  }
 },
 "nbformat": 4,
 "nbformat_minor": 2
}
