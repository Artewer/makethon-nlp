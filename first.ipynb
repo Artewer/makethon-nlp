{
 "cells": [
  {
   "cell_type": "code",
   "outputs": [
    {
     "name": "stdout",
     "output_type": "stream",
     "text": [
      "Requirement already satisfied: llama_index in c:\\users\\79779\\anaconda3\\lib\\site-packages (0.10.32)\n",
      "Requirement already satisfied: llama-index-agent-openai<0.3.0,>=0.1.4 in c:\\users\\79779\\anaconda3\\lib\\site-packages (from llama_index) (0.2.3)\n",
      "Requirement already satisfied: llama-index-cli<0.2.0,>=0.1.2 in c:\\users\\79779\\anaconda3\\lib\\site-packages (from llama_index) (0.1.12)\n",
      "Requirement already satisfied: llama-index-core<0.11.0,>=0.10.32 in c:\\users\\79779\\anaconda3\\lib\\site-packages (from llama_index) (0.10.32)\n",
      "Requirement already satisfied: llama-index-embeddings-openai<0.2.0,>=0.1.5 in c:\\users\\79779\\anaconda3\\lib\\site-packages (from llama_index) (0.1.9)\n",
      "Requirement already satisfied: llama-index-indices-managed-llama-cloud<0.2.0,>=0.1.2 in c:\\users\\79779\\anaconda3\\lib\\site-packages (from llama_index) (0.1.6)\n",
      "Requirement already satisfied: llama-index-legacy<0.10.0,>=0.9.48 in c:\\users\\79779\\anaconda3\\lib\\site-packages (from llama_index) (0.9.48)\n",
      "Requirement already satisfied: llama-index-llms-openai<0.2.0,>=0.1.13 in c:\\users\\79779\\anaconda3\\lib\\site-packages (from llama_index) (0.1.16)\n",
      "Requirement already satisfied: llama-index-multi-modal-llms-openai<0.2.0,>=0.1.3 in c:\\users\\79779\\anaconda3\\lib\\site-packages (from llama_index) (0.1.5)\n",
      "Requirement already satisfied: llama-index-program-openai<0.2.0,>=0.1.3 in c:\\users\\79779\\anaconda3\\lib\\site-packages (from llama_index) (0.1.6)\n",
      "Requirement already satisfied: llama-index-question-gen-openai<0.2.0,>=0.1.2 in c:\\users\\79779\\anaconda3\\lib\\site-packages (from llama_index) (0.1.3)\n",
      "Requirement already satisfied: llama-index-readers-file<0.2.0,>=0.1.4 in c:\\users\\79779\\anaconda3\\lib\\site-packages (from llama_index) (0.1.19)\n",
      "Requirement already satisfied: llama-index-readers-llama-parse<0.2.0,>=0.1.2 in c:\\users\\79779\\anaconda3\\lib\\site-packages (from llama_index) (0.1.4)\n",
      "Requirement already satisfied: openai>=1.14.0 in c:\\users\\79779\\anaconda3\\lib\\site-packages (from llama-index-agent-openai<0.3.0,>=0.1.4->llama_index) (1.23.6)\n",
      "Requirement already satisfied: PyYAML>=6.0.1 in c:\\users\\79779\\anaconda3\\lib\\site-packages (from llama-index-core<0.11.0,>=0.10.32->llama_index) (6.0.1)\n",
      "Requirement already satisfied: SQLAlchemy>=1.4.49 in c:\\users\\79779\\anaconda3\\lib\\site-packages (from SQLAlchemy[asyncio]>=1.4.49->llama-index-core<0.11.0,>=0.10.32->llama_index) (2.0.21)\n",
      "Requirement already satisfied: aiohttp<4.0.0,>=3.8.6 in c:\\users\\79779\\anaconda3\\lib\\site-packages (from llama-index-core<0.11.0,>=0.10.32->llama_index) (3.9.3)\n",
      "Requirement already satisfied: dataclasses-json in c:\\users\\79779\\anaconda3\\lib\\site-packages (from llama-index-core<0.11.0,>=0.10.32->llama_index) (0.6.4)\n",
      "Requirement already satisfied: deprecated>=1.2.9.3 in c:\\users\\79779\\anaconda3\\lib\\site-packages (from llama-index-core<0.11.0,>=0.10.32->llama_index) (1.2.14)\n",
      "Requirement already satisfied: dirtyjson<2.0.0,>=1.0.8 in c:\\users\\79779\\anaconda3\\lib\\site-packages (from llama-index-core<0.11.0,>=0.10.32->llama_index) (1.0.8)\n",
      "Requirement already satisfied: fsspec>=2023.5.0 in c:\\users\\79779\\anaconda3\\lib\\site-packages (from llama-index-core<0.11.0,>=0.10.32->llama_index) (2023.10.0)\n",
      "Requirement already satisfied: httpx in c:\\users\\79779\\anaconda3\\lib\\site-packages (from llama-index-core<0.11.0,>=0.10.32->llama_index) (0.27.0)\n",
      "Requirement already satisfied: llamaindex-py-client<0.2.0,>=0.1.18 in c:\\users\\79779\\anaconda3\\lib\\site-packages (from llama-index-core<0.11.0,>=0.10.32->llama_index) (0.1.19)\n",
      "Requirement already satisfied: nest-asyncio<2.0.0,>=1.5.8 in c:\\users\\79779\\anaconda3\\lib\\site-packages (from llama-index-core<0.11.0,>=0.10.32->llama_index) (1.6.0)\n",
      "Requirement already satisfied: networkx>=3.0 in c:\\users\\79779\\anaconda3\\lib\\site-packages (from llama-index-core<0.11.0,>=0.10.32->llama_index) (3.1)\n",
      "Requirement already satisfied: nltk<4.0.0,>=3.8.1 in c:\\users\\79779\\anaconda3\\lib\\site-packages (from llama-index-core<0.11.0,>=0.10.32->llama_index) (3.8.1)\n",
      "Requirement already satisfied: numpy in c:\\users\\79779\\anaconda3\\lib\\site-packages (from llama-index-core<0.11.0,>=0.10.32->llama_index) (1.23.5)\n",
      "Requirement already satisfied: pandas in c:\\users\\79779\\anaconda3\\lib\\site-packages (from llama-index-core<0.11.0,>=0.10.32->llama_index) (1.5.2)\n",
      "Requirement already satisfied: pillow>=9.0.0 in c:\\users\\79779\\anaconda3\\lib\\site-packages (from llama-index-core<0.11.0,>=0.10.32->llama_index) (9.3.0)\n",
      "Requirement already satisfied: requests>=2.31.0 in c:\\users\\79779\\anaconda3\\lib\\site-packages (from llama-index-core<0.11.0,>=0.10.32->llama_index) (2.31.0)\n",
      "Requirement already satisfied: tenacity<9.0.0,>=8.2.0 in c:\\users\\79779\\anaconda3\\lib\\site-packages (from llama-index-core<0.11.0,>=0.10.32->llama_index) (8.2.2)\n",
      "Requirement already satisfied: tiktoken>=0.3.3 in c:\\users\\79779\\anaconda3\\lib\\site-packages (from llama-index-core<0.11.0,>=0.10.32->llama_index) (0.6.0)\n",
      "Requirement already satisfied: tqdm<5.0.0,>=4.66.1 in c:\\users\\79779\\anaconda3\\lib\\site-packages (from llama-index-core<0.11.0,>=0.10.32->llama_index) (4.66.2)\n",
      "Requirement already satisfied: typing-extensions>=4.5.0 in c:\\users\\79779\\anaconda3\\lib\\site-packages (from llama-index-core<0.11.0,>=0.10.32->llama_index) (4.11.0)\n",
      "Requirement already satisfied: typing-inspect>=0.8.0 in c:\\users\\79779\\anaconda3\\lib\\site-packages (from llama-index-core<0.11.0,>=0.10.32->llama_index) (0.9.0)\n",
      "Requirement already satisfied: wrapt in c:\\users\\79779\\anaconda3\\lib\\site-packages (from llama-index-core<0.11.0,>=0.10.32->llama_index) (1.14.1)\n",
      "Requirement already satisfied: beautifulsoup4<5.0.0,>=4.12.3 in c:\\users\\79779\\anaconda3\\lib\\site-packages (from llama-index-readers-file<0.2.0,>=0.1.4->llama_index) (4.12.3)\n",
      "Requirement already satisfied: pypdf<5.0.0,>=4.0.1 in c:\\users\\79779\\anaconda3\\lib\\site-packages (from llama-index-readers-file<0.2.0,>=0.1.4->llama_index) (4.2.0)\n",
      "Requirement already satisfied: striprtf<0.0.27,>=0.0.26 in c:\\users\\79779\\anaconda3\\lib\\site-packages (from llama-index-readers-file<0.2.0,>=0.1.4->llama_index) (0.0.26)\n",
      "Requirement already satisfied: llama-parse<0.5.0,>=0.4.0 in c:\\users\\79779\\anaconda3\\lib\\site-packages (from llama-index-readers-llama-parse<0.2.0,>=0.1.2->llama_index) (0.4.2)\n",
      "Requirement already satisfied: aiosignal>=1.1.2 in c:\\users\\79779\\anaconda3\\lib\\site-packages (from aiohttp<4.0.0,>=3.8.6->llama-index-core<0.11.0,>=0.10.32->llama_index) (1.2.0)\n",
      "Requirement already satisfied: attrs>=17.3.0 in c:\\users\\79779\\anaconda3\\lib\\site-packages (from aiohttp<4.0.0,>=3.8.6->llama-index-core<0.11.0,>=0.10.32->llama_index) (22.1.0)\n",
      "Requirement already satisfied: frozenlist>=1.1.1 in c:\\users\\79779\\anaconda3\\lib\\site-packages (from aiohttp<4.0.0,>=3.8.6->llama-index-core<0.11.0,>=0.10.32->llama_index) (1.4.0)\n",
      "Requirement already satisfied: multidict<7.0,>=4.5 in c:\\users\\79779\\anaconda3\\lib\\site-packages (from aiohttp<4.0.0,>=3.8.6->llama-index-core<0.11.0,>=0.10.32->llama_index) (6.0.4)\n",
      "Requirement already satisfied: yarl<2.0,>=1.0 in c:\\users\\79779\\anaconda3\\lib\\site-packages (from aiohttp<4.0.0,>=3.8.6->llama-index-core<0.11.0,>=0.10.32->llama_index) (1.9.3)\n",
      "Requirement already satisfied: soupsieve>1.2 in c:\\users\\79779\\anaconda3\\lib\\site-packages (from beautifulsoup4<5.0.0,>=4.12.3->llama-index-readers-file<0.2.0,>=0.1.4->llama_index) (2.3.2.post1)\n",
      "Requirement already satisfied: pydantic>=1.10 in c:\\users\\79779\\anaconda3\\lib\\site-packages (from llamaindex-py-client<0.2.0,>=0.1.18->llama-index-core<0.11.0,>=0.10.32->llama_index) (1.10.12)\n",
      "Requirement already satisfied: anyio in c:\\users\\79779\\anaconda3\\lib\\site-packages (from httpx->llama-index-core<0.11.0,>=0.10.32->llama_index) (3.5.0)\n",
      "Requirement already satisfied: certifi in c:\\users\\79779\\anaconda3\\lib\\site-packages (from httpx->llama-index-core<0.11.0,>=0.10.32->llama_index) (2022.9.24)\n",
      "Requirement already satisfied: httpcore==1.* in c:\\users\\79779\\anaconda3\\lib\\site-packages (from httpx->llama-index-core<0.11.0,>=0.10.32->llama_index) (1.0.5)\n",
      "Requirement already satisfied: idna in c:\\users\\79779\\anaconda3\\lib\\site-packages (from httpx->llama-index-core<0.11.0,>=0.10.32->llama_index) (3.4)\n",
      "Requirement already satisfied: sniffio in c:\\users\\79779\\anaconda3\\lib\\site-packages (from httpx->llama-index-core<0.11.0,>=0.10.32->llama_index) (1.3.0)\n",
      "Requirement already satisfied: h11<0.15,>=0.13 in c:\\users\\79779\\anaconda3\\lib\\site-packages (from httpcore==1.*->httpx->llama-index-core<0.11.0,>=0.10.32->llama_index) (0.14.0)\n",
      "Requirement already satisfied: click in c:\\users\\79779\\anaconda3\\lib\\site-packages (from nltk<4.0.0,>=3.8.1->llama-index-core<0.11.0,>=0.10.32->llama_index) (8.1.7)\n",
      "Requirement already satisfied: joblib in c:\\users\\79779\\anaconda3\\lib\\site-packages (from nltk<4.0.0,>=3.8.1->llama-index-core<0.11.0,>=0.10.32->llama_index) (1.2.0)\n",
      "Requirement already satisfied: regex>=2021.8.3 in c:\\users\\79779\\anaconda3\\lib\\site-packages (from nltk<4.0.0,>=3.8.1->llama-index-core<0.11.0,>=0.10.32->llama_index) (2023.10.3)\n",
      "Requirement already satisfied: distro<2,>=1.7.0 in c:\\users\\79779\\anaconda3\\lib\\site-packages (from openai>=1.14.0->llama-index-agent-openai<0.3.0,>=0.1.4->llama_index) (1.8.0)\n",
      "Requirement already satisfied: charset-normalizer<4,>=2 in c:\\users\\79779\\anaconda3\\lib\\site-packages (from requests>=2.31.0->llama-index-core<0.11.0,>=0.10.32->llama_index) (2.0.4)\n",
      "Requirement already satisfied: urllib3<3,>=1.21.1 in c:\\users\\79779\\anaconda3\\lib\\site-packages (from requests>=2.31.0->llama-index-core<0.11.0,>=0.10.32->llama_index) (1.26.18)\n",
      "Requirement already satisfied: greenlet!=0.4.17 in c:\\users\\79779\\anaconda3\\lib\\site-packages (from SQLAlchemy>=1.4.49->SQLAlchemy[asyncio]>=1.4.49->llama-index-core<0.11.0,>=0.10.32->llama_index) (3.0.1)\n",
      "Requirement already satisfied: colorama in c:\\users\\79779\\anaconda3\\lib\\site-packages (from tqdm<5.0.0,>=4.66.1->llama-index-core<0.11.0,>=0.10.32->llama_index) (0.4.6)\n",
      "Requirement already satisfied: mypy-extensions>=0.3.0 in c:\\users\\79779\\anaconda3\\lib\\site-packages (from typing-inspect>=0.8.0->llama-index-core<0.11.0,>=0.10.32->llama_index) (1.0.0)\n",
      "Requirement already satisfied: marshmallow<4.0.0,>=3.18.0 in c:\\users\\79779\\anaconda3\\lib\\site-packages (from dataclasses-json->llama-index-core<0.11.0,>=0.10.32->llama_index) (3.21.1)\n",
      "Requirement already satisfied: python-dateutil>=2.8.1 in c:\\users\\79779\\anaconda3\\lib\\site-packages (from pandas->llama-index-core<0.11.0,>=0.10.32->llama_index) (2.8.2)\n",
      "Requirement already satisfied: pytz>=2020.1 in c:\\users\\79779\\anaconda3\\lib\\site-packages (from pandas->llama-index-core<0.11.0,>=0.10.32->llama_index) (2023.3.post1)\n",
      "Requirement already satisfied: packaging>=17.0 in c:\\users\\79779\\anaconda3\\lib\\site-packages (from marshmallow<4.0.0,>=3.18.0->dataclasses-json->llama-index-core<0.11.0,>=0.10.32->llama_index) (23.1)\n",
      "Requirement already satisfied: six>=1.5 in c:\\users\\79779\\anaconda3\\lib\\site-packages (from python-dateutil>=2.8.1->pandas->llama-index-core<0.11.0,>=0.10.32->llama_index) (1.16.0)\n",
      "Note: you may need to restart the kernel to use updated packages.\n"
     ]
    }
   ],
   "source": [
    "%pip install llama_index"
   ],
   "metadata": {
    "collapsed": false
   },
   "execution_count": 1
  },
  {
   "cell_type": "code",
   "execution_count": 2,
   "metadata": {
    "ExecuteTime": {
     "end_time": "2024-04-27T11:20:24.226091Z",
     "start_time": "2024-04-27T11:20:20.444297Z"
    }
   },
   "outputs": [],
   "source": [
    "from llama_index.core import SimpleDirectoryReader\n",
    "from llama_index.core import VectorStoreIndex\n",
    "from llama_index.core import Document\n",
    "from llama_index.embeddings.openai import OpenAIEmbedding\n",
    "from llama_index.core.node_parser import SentenceSplitter\n",
    "from llama_index.core.extractors import TitleExtractor\n",
    "from llama_index.core.ingestion import IngestionPipeline\n",
    "from llama_index.core.storage.docstore import SimpleDocumentStore\n",
    "from llama_index.core.storage.index_store import SimpleIndexStore\n",
    "from llama_index.core.vector_stores import SimpleVectorStore\n",
    "from llama_index.core import StorageContext\n",
    "from llama_index.core.query_pipeline import QueryPipeline\n",
    "#from llama_index.embeddings.huggingface import HuggingFaceEmbedding\n",
    "from llama_index.agent.openai import OpenAIAgent\n",
    "#from llama_index.llms.openai_like import OpenAILike\n",
    "from llama_index.core.tools import QueryEngineTool, ToolMetadata\n",
    "import os\n",
    "from llama_index.llms.openai import OpenAI\n",
    "from llama_index.core.agent import ReActAgent\n",
    "from llama_index.agent.openai import OpenAIAgent\n",
    "from llama_index.core import (\n",
    "    load_index_from_storage,\n",
    "    StorageContext,\n",
    "    VectorStoreIndex,\n",
    ")\n",
    "from llama_index.core import SummaryIndex\n",
    "from llama_index.core.tools import QueryEngineTool, ToolMetadata\n",
    "from llama_index.core.node_parser import SentenceSplitter\n",
    "import os\n",
    "from tqdm.notebook import tqdm\n",
    "import pickle\n",
    "from pathlib import Path\n",
    "\n",
    "# Load environment variables from .env file\n",
    "from dotenv import load_dotenv\n",
    "if __name__ == '__main__' and '__file__' not in globals():\n",
    "    load_dotenv()\n",
    "    # Retrieve the OpenAI API key from the environment\n",
    "    OPENAI_API_KEY = os.getenv('OPENAI_API_KEY')\n",
    "    #print(OPENAI_API_KEY)"
   ]
  },
  {
   "cell_type": "code",
   "execution_count": 3,
   "metadata": {
    "ExecuteTime": {
     "end_time": "2024-04-27T11:20:24.232238Z",
     "start_time": "2024-04-27T11:20:24.227182Z"
    }
   },
   "outputs": [],
   "source": [
    "def read_folder(path):\n",
    "    # Walk through all files in the given path and return a list of documents\n",
    "    documents = []\n",
    "    all_files = []\n",
    "    for root, dirs, files in os.walk(path):\n",
    "        all_files.append(files)\n",
    "        for file in files:\n",
    "            document_path = os.path.join(root, file)\n",
    "            documents.append(SimpleDirectoryReader(input_files=[document_path]).load_data())\n",
    "            \n",
    "\n",
    "    indexes = []\n",
    "    for i in documents:\n",
    "        indexes.append(VectorStoreIndex.from_documents(documents=i))\n",
    "        \n",
    "    return indexes, files"
   ]
  },
  {
   "cell_type": "code",
   "execution_count": 4,
   "metadata": {
    "ExecuteTime": {
     "end_time": "2024-04-27T11:20:29.287254Z",
     "start_time": "2024-04-27T11:20:24.234415Z"
    }
   },
   "outputs": [
    {
     "name": "stdout",
     "output_type": "stream",
     "text": [
      "Failed to load file data\\customer data - preffered car price.csv with error: 'utf-8' codec can't decode byte 0xc5 in position 8694: invalid continuation byte. Skipping...\n"
     ]
    }
   ],
   "source": [
    "indexes, files = read_folder('data/')\n",
    "\n",
    "llm = OpenAI(model=\"gpt-3.5-turbo-0613\")\n",
    "#print(files)\n",
    "\n",
    "#tools = create_engines_tools(indexes)\n",
    "\n",
    "tools = [QueryEngineTool.from_defaults(\n",
    "    indexes[i].as_query_engine(), name=f\"engine_{i}\", description=f\"Provides information about {files[i]}\"\n",
    ") for i in range(len(indexes))]\n",
    "\n",
    "\n",
    "agent = OpenAIAgent.from_tools(\n",
    "    tools=tools,\n",
    "    llm=llm,\n",
    "    verbose=True\n",
    ")"
   ]
  },
  {
   "cell_type": "code",
   "execution_count": 5,
   "metadata": {
    "ExecuteTime": {
     "end_time": "2024-04-27T11:20:32.328708Z",
     "start_time": "2024-04-27T11:20:29.290375Z"
    }
   },
   "outputs": [
    {
     "name": "stdout",
     "output_type": "stream",
     "text": [
      "Added user message to memory: What are the characteristics of Volkswagen ID.3 Pro\n",
      "=== Calling Function ===\n",
      "Calling function: engine_2 with args: {\n",
      "  \"input\": \"Volkswagen ID.3 Pro\"\n",
      "}\n",
      "Got output: 35575\n",
      "========================\n"
     ]
    },
    {
     "data": {
      "text/plain": "'The Volkswagen ID.3 Pro has a price of 35,575 euros.'"
     },
     "execution_count": 5,
     "metadata": {},
     "output_type": "execute_result"
    }
   ],
   "source": [
    "agent.chat(\"What are the characteristics of Volkswagen ID.3 Pro\").response"
   ]
  },
  {
   "cell_type": "code",
   "outputs": [
    {
     "name": "stdout",
     "output_type": "stream",
     "text": [
      "Requirement already satisfied: pyngrok in c:\\users\\79779\\anaconda3\\lib\\site-packages (7.1.6)\n",
      "Requirement already satisfied: nest_asyncio in c:\\users\\79779\\anaconda3\\lib\\site-packages (1.6.0)\n",
      "Requirement already satisfied: fastapi in c:\\users\\79779\\anaconda3\\lib\\site-packages (0.110.2)\n",
      "Requirement already satisfied: uvicorn in c:\\users\\79779\\anaconda3\\lib\\site-packages (0.29.0)\n",
      "Requirement already satisfied: loguru in c:\\users\\79779\\anaconda3\\lib\\site-packages (0.7.2)\n",
      "Requirement already satisfied: websockets in c:\\users\\79779\\anaconda3\\lib\\site-packages (12.0)\n",
      "Requirement already satisfied: PyYAML>=5.1 in c:\\users\\79779\\anaconda3\\lib\\site-packages (from pyngrok) (6.0.1)\n",
      "Requirement already satisfied: pydantic!=1.8,!=1.8.1,!=2.0.0,!=2.0.1,!=2.1.0,<3.0.0,>=1.7.4 in c:\\users\\79779\\anaconda3\\lib\\site-packages (from fastapi) (1.10.12)\n",
      "Requirement already satisfied: starlette<0.38.0,>=0.37.2 in c:\\users\\79779\\anaconda3\\lib\\site-packages (from fastapi) (0.37.2)\n",
      "Requirement already satisfied: typing-extensions>=4.8.0 in c:\\users\\79779\\anaconda3\\lib\\site-packages (from fastapi) (4.11.0)\n",
      "Requirement already satisfied: click>=7.0 in c:\\users\\79779\\anaconda3\\lib\\site-packages (from uvicorn) (8.1.7)\n",
      "Requirement already satisfied: h11>=0.8 in c:\\users\\79779\\anaconda3\\lib\\site-packages (from uvicorn) (0.14.0)\n",
      "Requirement already satisfied: colorama>=0.3.4 in c:\\users\\79779\\anaconda3\\lib\\site-packages (from loguru) (0.4.6)\n",
      "Requirement already satisfied: win32-setctime>=1.0.0 in c:\\users\\79779\\anaconda3\\lib\\site-packages (from loguru) (1.1.0)\n",
      "Requirement already satisfied: anyio<5,>=3.4.0 in c:\\users\\79779\\anaconda3\\lib\\site-packages (from starlette<0.38.0,>=0.37.2->fastapi) (3.5.0)\n",
      "Requirement already satisfied: idna>=2.8 in c:\\users\\79779\\anaconda3\\lib\\site-packages (from anyio<5,>=3.4.0->starlette<0.38.0,>=0.37.2->fastapi) (3.4)\n",
      "Requirement already satisfied: sniffio>=1.1 in c:\\users\\79779\\anaconda3\\lib\\site-packages (from anyio<5,>=3.4.0->starlette<0.38.0,>=0.37.2->fastapi) (1.3.0)\n",
      "Note: you may need to restart the kernel to use updated packages.\n"
     ]
    }
   ],
   "source": [
    "%pip install pyngrok nest_asyncio fastapi uvicorn loguru websockets"
   ],
   "metadata": {
    "collapsed": false,
    "ExecuteTime": {
     "end_time": "2024-04-27T11:20:37.500252Z",
     "start_time": "2024-04-27T11:20:32.330835Z"
    }
   },
   "execution_count": 6
  },
  {
   "cell_type": "code",
   "execution_count": 7,
   "metadata": {
    "ExecuteTime": {
     "end_time": "2024-04-27T11:20:37.594872Z",
     "start_time": "2024-04-27T11:20:37.501267Z"
    }
   },
   "outputs": [],
   "source": [
    "from fastapi import FastAPI, WebSocket, WebSocketDisconnect\n",
    "from fastapi.responses import HTMLResponse\n",
    "import asyncio\n",
    "#from bs4 import BeautifulSoup\n",
    "\n",
    "socket = 8000\n",
    "\n",
    "app = FastAPI()\n",
    "\n",
    "'''@app.get(\"/\")\n",
    "async def get():\n",
    "    return HTMLResponse(open(\"index.html\").read())\n",
    "\n",
    "@app.websocket(\"/ws\")\n",
    "async def websocket_endpoint(websocket: WebSocket):\n",
    "    await websocket.accept()\n",
    "    while True:\n",
    "        data = await websocket.receive_text()\n",
    "        await websocket.send_text(f\"Message received: {data}\")\n",
    "'''\n",
    "html = open(\"web/index.html\",\"r\").read()\n",
    "\n",
    "@app.get(\"/\")\n",
    "async def get():\n",
    "    return HTMLResponse(html)\n",
    "\n",
    "@app.websocket(\"/ws\")\n",
    "async def websocket_endpoint(websocket: WebSocket):\n",
    "    await websocket.accept()\n",
    "    while True:\n",
    "        data = await websocket.receive_text()\n",
    "        await websocket.send_text(f\"ShalopAI: {agent.chat(data).response}\")\n",
    "\n",
    "\n"
   ]
  },
  {
   "cell_type": "code",
   "outputs": [
    {
     "data": {
      "text/plain": "'from fastapi import FastAPI\\nfrom pydantic import BaseModel\\nfrom loguru import logger\\n\\napp = FastAPI()\\n\\nclass UserRequestIn(BaseModel):\\n    text: str\\n    \\n@app.post(\"/test\")\\ndef index(request: UserRequestIn):\\n    logger.debug(request)\\n    return {\"ok\": True}'"
     },
     "execution_count": 8,
     "metadata": {},
     "output_type": "execute_result"
    }
   ],
   "source": [
    "'''from fastapi import FastAPI\n",
    "from pydantic import BaseModel\n",
    "from loguru import logger\n",
    "\n",
    "app = FastAPI()\n",
    "\n",
    "class UserRequestIn(BaseModel):\n",
    "    text: str\n",
    "    \n",
    "@app.post(\"/test\")\n",
    "def index(request: UserRequestIn):\n",
    "    logger.debug(request)\n",
    "    return {\"ok\": True}'''"
   ],
   "metadata": {
    "collapsed": false,
    "ExecuteTime": {
     "end_time": "2024-04-27T11:20:37.603407Z",
     "start_time": "2024-04-27T11:20:37.596993Z"
    }
   },
   "execution_count": 8
  },
  {
   "cell_type": "code",
   "outputs": [
    {
     "name": "stdout",
     "output_type": "stream",
     "text": [
      "Authtoken saved to configuration file: C:\\Users\\79779\\AppData\\Local/ngrok/ngrok.yml\n"
     ]
    }
   ],
   "source": [
    "NGROK_AUTH_TOKEN=os.getenv(\"NGROK_AUTH_TOKEN\")\n",
    "!ngrok config add-authtoken {NGROK_AUTH_TOKEN}"
   ],
   "metadata": {
    "collapsed": false,
    "ExecuteTime": {
     "end_time": "2024-04-27T11:20:37.945658Z",
     "start_time": "2024-04-27T11:20:37.604495Z"
    }
   },
   "execution_count": 9
  },
  {
   "cell_type": "code",
   "outputs": [
    {
     "data": {
      "text/plain": "<IPython.core.display.HTML object>",
      "text/html": "<details>\n<summary>Click to view session information</summary>\n<pre>\n-----\ndotenv              NA\nfastapi             0.110.2\nllama_index         NA\npyngrok             7.1.6\nsession_info        1.0.0\nstarlette           0.37.2\ntqdm                4.66.2\n-----\n</pre>\n<details>\n<summary>Click to view modules imported as dependencies</summary>\n<pre>\nPIL                 9.3.0\nanyio               NA\nasttokens           NA\nattr                22.1.0\nbabel               2.11.0\nbeta_ufunc          NA\nbinom_ufunc         NA\nbottleneck          1.3.7\nbrotli              1.0.9\ncertifi             2022.09.24\nchardet             4.0.0\ncharset_normalizer  2.0.4\nclick               8.1.7\ncloudpickle         2.2.1\ncolorama            0.4.6\ncomm                0.1.2\ncryptography        42.0.2\ncython_runtime      NA\ndataclasses_json    0.6.4\ndateutil            2.8.2\ndebugpy             1.6.7\ndecorator           5.1.1\ndeprecated          1.2.14\ndistro              1.8.0\nentrypoints         0.4\nexecuting           0.8.3\nfastjsonschema      NA\nfsspec              2023.10.0\ngoogle              NA\ngreenlet            3.0.1\nh11                 0.14.0\nhttpcore            1.0.5\nhttpx               0.27.0\nhypergeom_ufunc     NA\nidna                3.4\ninvgauss_ufunc      NA\nipykernel           6.28.0\nipython_genutils    0.2.0\nipywidgets          7.6.5\njedi                0.18.1\njinja2              3.1.2\njoblib              1.2.0\njson5               NA\njsonpointer         2.1\njsonschema          4.17.3\njupyter_events      0.6.3\njupyter_server      2.5.0\njupyterlab_server   2.22.0\nllama_index_client  NA\nlz4                 4.3.2\nmarkupsafe          2.1.1\nmarshmallow         3.21.1\nmkl                 2.4.0\nmpl_toolkits        NA\nmypy_extensions     NA\nnbformat            5.7.0\nnbinom_ufunc        NA\nncf_ufunc           NA\nnct_ufunc           NA\nncx2_ufunc          NA\nnetworkx            3.1\nnltk                3.8.1\nnumexpr             2.8.4\nnumpy               1.23.5\nopenai              1.23.6\npackaging           23.1\npandas              1.5.2\nparso               0.8.3\npickleshare         0.7.5\npkg_resources       NA\nplatformdirs        3.10.0\nprometheus_client   NA\nprompt_toolkit      3.0.43\npsutil              5.9.0\npure_eval           0.2.2\npvectorc            NA\npyarrow             10.0.1\npydantic            1.10.12\npydev_ipython       NA\npydevconsole        NA\npydevd              2.9.5\npydevd_file_utils   NA\npydevd_plugins      NA\npydevd_tracing      NA\npygments            2.15.1\npypdf               4.2.0\npyrsistent          NA\npythoncom           NA\npythonjsonlogger    NA\npytz                2023.3.post1\npywin32_system32    NA\npywintypes          NA\nregex               2.5.135\nrequests            2.31.0\nrfc3339_validator   0.1.4\nrfc3986_validator   0.1.1\nrich                NA\nruamel              NA\nscipy               1.10.0\nsend2trash          NA\nsetuptools          68.2.2\nsix                 1.16.0\nskewnorm_ufunc      NA\nsklearn             1.1.3\nsnappy              NA\nsniffio             1.3.0\nsocks               1.7.1\nsphinxcontrib       NA\nsqlalchemy          2.0.21\nstack_data          0.2.0\ntenacity            NA\nthreadpoolctl       2.2.0\ntiktoken            NA\ntiktoken_ext        NA\ntornado             6.2\ntraitlets           5.7.1\ntyping_extensions   NA\ntyping_inspect      NA\nujson               5.4.0\nurllib3             1.26.18\nwcwidth             0.2.5\nwebsocket           0.58.0\nwin32api            NA\nwin32com            NA\nwin32con            NA\nwin32trace          NA\nwinerror            NA\nwrapt               1.14.1\nyaml                6.0.1\nzmq                 24.0.1\nzope                NA\nzstandard           0.19.0\n</pre>\n</details> <!-- seems like this ends pre, so might as well be explicit -->\n<pre>\n-----\nIPython             8.20.0\njupyter_client      7.4.9\njupyter_core        5.5.0\njupyterlab          4.0.11\nnotebook            6.5.2\n-----\nPython 3.11.7 | packaged by Anaconda, Inc. | (main, Dec 15 2023, 18:05:47) [MSC v.1916 64 bit (AMD64)]\nWindows-10-10.0.22631-SP0\n-----\nSession information updated at 2024-04-27 13:20\n</pre>\n</details>"
     },
     "execution_count": 10,
     "metadata": {},
     "output_type": "execute_result"
    }
   ],
   "source": [
    "from pyngrok import ngrok\n",
    "#register on ngrok.com and get a token here: https://dashboard.ngrok.com/get-started/your-authtoken\n",
    "# put it then in .env under NGROK_AUTH_TOKEN\n",
    "\n",
    "ngrok_tunnel = ngrok.connect(socket)\n",
    "\n",
    "ngrok_tunnel\n",
    "\n",
    "import session_info\n",
    "session_info.show()"
   ],
   "metadata": {
    "collapsed": false,
    "ExecuteTime": {
     "end_time": "2024-04-27T11:20:39.883211Z",
     "start_time": "2024-04-27T11:20:37.946740Z"
    }
   },
   "execution_count": 10
  },
  {
   "cell_type": "code",
   "outputs": [
    {
     "name": "stderr",
     "output_type": "stream",
     "text": [
      "INFO:     Started server process [21296]\n",
      "INFO:     Waiting for application startup.\n",
      "INFO:     Application startup complete.\n",
      "INFO:     Uvicorn running on http://127.0.0.1:8000 (Press CTRL+C to quit)\n"
     ]
    },
    {
     "name": "stdout",
     "output_type": "stream",
     "text": [
      "INFO:     127.0.0.1:50757 - \"GET / HTTP/1.1\" 200 OK\n"
     ]
    },
    {
     "name": "stderr",
     "output_type": "stream",
     "text": [
      "INFO:     ('127.0.0.1', 50760) - \"WebSocket /ws\" [accepted]\n",
      "INFO:     connection open\n"
     ]
    },
    {
     "name": "stdout",
     "output_type": "stream",
     "text": [
      "Added user message to memory: Hello\n",
      "Added user message to memory: Ты кто?\n",
      "Added user message to memory: Посоветуй машину\n",
      "=== Calling Function ===\n",
      "Calling function: engine_0 with args: {\n",
      "  \"input\": \"car\"\n",
      "}\n",
      "Got output: Empty Response\n",
      "========================\n",
      "Added user message to memory: ljkhljk\n"
     ]
    },
    {
     "name": "stderr",
     "output_type": "stream",
     "text": [
      "t=2024-04-27T14:34:15+0200 lvl=eror msg=\"heartbeat timeout, terminating session\" obj=tunnels.session obj=csess id=4a06f17df199 clientid=ff70f7f07fb880c95ccc231ca5e6e91d\n",
      "t=2024-04-27T14:34:15+0200 lvl=eror msg=\"session closed, starting reconnect loop\" obj=tunnels.session obj=csess id=c690707af039 err=\"session closed\"\n",
      "t=2024-04-27T14:34:15+0200 lvl=eror msg=\"failed to reconnect session\" obj=tunnels.session err=\"failed to dial ngrok server with address \\\"connect.us.ngrok-agent.com:443\\\": dial tcp: lookup connect.us.ngrok-agent.com: no such host\"\n",
      "t=2024-04-27T14:34:16+0200 lvl=eror msg=\"failed to reconnect session\" obj=tunnels.session err=\"failed to dial ngrok server with address \\\"connect.us.ngrok-agent.com:443\\\": dial tcp: lookup connect.us.ngrok-agent.com: no such host\"\n",
      "t=2024-04-27T14:34:17+0200 lvl=eror msg=\"failed to reconnect session\" obj=tunnels.session err=\"failed to dial ngrok server with address \\\"connect.us.ngrok-agent.com:443\\\": dial tcp: lookup connect.us.ngrok-agent.com: no such host\"\n",
      "t=2024-04-27T14:34:19+0200 lvl=eror msg=\"failed to reconnect session\" obj=tunnels.session err=\"failed to dial ngrok server with address \\\"connect.us.ngrok-agent.com:443\\\": dial tcp: lookup connect.us.ngrok-agent.com: no such host\"\n",
      "t=2024-04-27T14:34:23+0200 lvl=eror msg=\"failed to reconnect session\" obj=tunnels.session err=\"failed to dial ngrok server with address \\\"connect.us.ngrok-agent.com:443\\\": dial tcp: lookup connect.us.ngrok-agent.com: no such host\"\n"
     ]
    }
   ],
   "source": [
    "import nest_asyncio\n",
    "import uvicorn\n",
    "\n",
    "nest_asyncio.apply()\n",
    "uvicorn.run(app, port=socket)"
   ],
   "metadata": {
    "collapsed": false,
    "is_executing": true,
    "ExecuteTime": {
     "start_time": "2024-04-27T11:20:39.884633Z"
    }
   },
   "execution_count": null
  },
  {
   "cell_type": "code",
   "outputs": [],
   "source": [],
   "metadata": {
    "collapsed": false,
    "is_executing": true
   },
   "execution_count": null
  },
  {
   "cell_type": "code",
   "outputs": [],
   "source": [],
   "metadata": {
    "collapsed": false,
    "is_executing": true
   }
  }
 ],
 "metadata": {
  "kernelspec": {
   "display_name": ".venv",
   "language": "python",
   "name": "python3"
  },
  "language_info": {
   "codemirror_mode": {
    "name": "ipython",
    "version": 3
   },
   "file_extension": ".py",
   "mimetype": "text/x-python",
   "name": "python",
   "nbconvert_exporter": "python",
   "pygments_lexer": "ipython3",
   "version": "3.10.12"
  }
 },
 "nbformat": 4,
 "nbformat_minor": 2
}
